{
 "cells": [
  {
   "cell_type": "code",
   "execution_count": 2,
   "metadata": {},
   "outputs": [],
   "source": [
    "import math\n"
   ]
  },
  {
   "cell_type": "code",
   "execution_count": 83,
   "metadata": {},
   "outputs": [],
   "source": [
    "# ax1 =-3\n",
    "# ay1 = 0 \n",
    "# ax2 = 3 \n",
    "# ay2 = 4 \n",
    "# bx1 = 0 \n",
    "# by1 = -1 \n",
    "# bx2 = 9 \n",
    "# by2 = 2\n"
   ]
  },
  {
   "cell_type": "code",
   "execution_count": 104,
   "metadata": {},
   "outputs": [],
   "source": [
    "ax1 = -5\n",
    "ay1 = 4 \n",
    "ax2 = 0\n",
    "ay2 = 5\n",
    "bx1 = -3\n",
    "by1 = -3 \n",
    "bx2 = 3 \n",
    "by2 = 3"
   ]
  },
  {
   "cell_type": "code",
   "execution_count": 105,
   "metadata": {},
   "outputs": [
    {
     "data": {
      "text/plain": [
       "(5, 6)"
      ]
     },
     "execution_count": 105,
     "metadata": {},
     "output_type": "execute_result"
    }
   ],
   "source": [
    "if (ax1 > 0 or bx1 > 0 and ax2 > 0 or bx2 > 0):\n",
    "    len1 = ax2 - ax1\n",
    "    len2 = bx2 - bx1\n",
    "elif (ax1<0 or bx1<0 and ax2<0 or bx2<0):\n",
    "    len1 = ax2 - ax1\n",
    "    len2 = bx2 - bx1\n",
    "else:\n",
    "    len1 = abs(ax1) + abs(ax2)\n",
    "    len2 = abs(bx1) + abs(bx2)\n",
    "len1,len2"
   ]
  },
  {
   "cell_type": "code",
   "execution_count": 106,
   "metadata": {},
   "outputs": [
    {
     "data": {
      "text/plain": [
       "(1, 6)"
      ]
     },
     "execution_count": 106,
     "metadata": {},
     "output_type": "execute_result"
    }
   ],
   "source": [
    "if (ay1 > 0 or by1 > 0 and by1 > 0 or by2 > 0):\n",
    "    b1 = ay2 - ay1\n",
    "    b2 = by2 - by1\n",
    "elif (ay1<0 or by1<0 and ay2<0 or by2<0):\n",
    "    b1 = ay2 - ay1\n",
    "    b2 = by2 - by1\n",
    "else:\n",
    "    b1 = abs(ay1) + abs(ay2)\n",
    "    b2 = abs(by1) + abs(by2)\n",
    "b1,b2"
   ]
  },
  {
   "cell_type": "code",
   "execution_count": 107,
   "metadata": {},
   "outputs": [
    {
     "data": {
      "text/plain": [
       "(5, 36)"
      ]
     },
     "execution_count": 107,
     "metadata": {},
     "output_type": "execute_result"
    }
   ],
   "source": [
    "area_rec_1 = len1 * b1\n",
    "area_rec_2 = len2 * b2\n",
    "\n",
    "area_rec_1 , area_rec_2"
   ]
  },
  {
   "cell_type": "code",
   "execution_count": 108,
   "metadata": {},
   "outputs": [
    {
     "data": {
      "text/plain": [
       "41"
      ]
     },
     "execution_count": 108,
     "metadata": {},
     "output_type": "execute_result"
    }
   ],
   "source": [
    "total_area = area_rec_1 + area_rec_2\n",
    "total_area"
   ]
  },
  {
   "cell_type": "code",
   "execution_count": 109,
   "metadata": {},
   "outputs": [
    {
     "data": {
      "text/plain": [
       "-3"
      ]
     },
     "execution_count": 109,
     "metadata": {},
     "output_type": "execute_result"
    }
   ],
   "source": [
    "overlap1_max = max(ax1,bx1)\n",
    "overlap2_max = max(ay1,by1)\n",
    "\n",
    "overlap1_min = min(ax2,bx2)\n",
    "overlap2_min = min(ay2,by2)\n",
    "\n",
    "commonArea = (overlap1_min - overlap1_max) * (overlap2_min - overlap2_max)\n",
    "commonArea\n"
   ]
  },
  {
   "cell_type": "code",
   "execution_count": 110,
   "metadata": {},
   "outputs": [
    {
     "name": "stdout",
     "output_type": "stream",
     "text": [
      "44\n"
     ]
    }
   ],
   "source": [
    "if bx1>=ax2 or bx2<=ax1 or by1>=ay2 or by2<=by1:\n",
    "    print(total_area)\n",
    "else:\n",
    "    final_area = total_area - commonArea\n",
    "    print(final_area)"
   ]
  },
  {
   "cell_type": "code",
   "execution_count": null,
   "metadata": {},
   "outputs": [],
   "source": []
  }
 ],
 "metadata": {
  "kernelspec": {
   "display_name": "env",
   "language": "python",
   "name": "python3"
  },
  "language_info": {
   "codemirror_mode": {
    "name": "ipython",
    "version": 3
   },
   "file_extension": ".py",
   "mimetype": "text/x-python",
   "name": "python",
   "nbconvert_exporter": "python",
   "pygments_lexer": "ipython3",
   "version": "3.10.6"
  },
  "orig_nbformat": 4,
  "vscode": {
   "interpreter": {
    "hash": "d4df9beb648b08949e4a5ae354613011f9c215c50bd7d4fcafa0a59ccb8a7ab3"
   }
  }
 },
 "nbformat": 4,
 "nbformat_minor": 2
}
