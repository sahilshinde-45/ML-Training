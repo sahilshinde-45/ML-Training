{
 "cells": [
  {
   "cell_type": "code",
   "execution_count": 19,
   "metadata": {},
   "outputs": [],
   "source": [
    "import torch\n",
    "import torch.nn as nn\n",
    "import torchvision\n",
    "import torchvision.transforms as transforms\n",
    "import matplotlib.pyplot as plt\n",
    "import torch.nn.functional as F\n",
    "import ssl\n",
    "ssl._create_default_https_context = ssl._create_unverified_context\n"
   ]
  },
  {
   "cell_type": "code",
   "execution_count": 13,
   "metadata": {},
   "outputs": [],
   "source": [
    "device = torch.device('cuda' if torch.cuda.is_available() else 'cpu')"
   ]
  },
  {
   "cell_type": "code",
   "execution_count": 14,
   "metadata": {},
   "outputs": [],
   "source": [
    "max_epochs = 4\n",
    "batch_size = 4\n",
    "l_r = 0.001\n"
   ]
  },
  {
   "cell_type": "code",
   "execution_count": 15,
   "metadata": {},
   "outputs": [],
   "source": [
    "transform = transforms.Compose([\n",
    "    transforms.ToTensor(),\n",
    "    transforms.Normalize((0.5, 0.5, 0.5),(0.5, 0.5, 0.5))\n",
    "])"
   ]
  },
  {
   "cell_type": "code",
   "execution_count": 16,
   "metadata": {},
   "outputs": [
    {
     "name": "stdout",
     "output_type": "stream",
     "text": [
      "Downloading https://www.cs.toronto.edu/~kriz/cifar-10-python.tar.gz to ./data/cifar-10-python.tar.gz\n"
     ]
    },
    {
     "name": "stderr",
     "output_type": "stream",
     "text": [
      "100%|██████████| 170498071/170498071 [00:09<00:00, 17668012.12it/s]\n"
     ]
    },
    {
     "name": "stdout",
     "output_type": "stream",
     "text": [
      "Extracting ./data/cifar-10-python.tar.gz to ./data\n",
      "Files already downloaded and verified\n"
     ]
    }
   ],
   "source": [
    "train_dataset = torchvision.datasets.CIFAR10(download=True, root='./data', train=True, transform=transform)\n",
    "test_dataset = torchvision.datasets.CIFAR10(download=True, root='./data', train=False, transform=transform)"
   ]
  },
  {
   "cell_type": "code",
   "execution_count": 17,
   "metadata": {},
   "outputs": [],
   "source": [
    "train_loader = torch.utils.data.DataLoader(train_dataset, shuffle=True, batch_size=batch_size)\n",
    "test_loader = torch.utils.data.DataLoader(test_dataset, shuffle=True, batch_size=batch_size)"
   ]
  },
  {
   "cell_type": "code",
   "execution_count": 18,
   "metadata": {},
   "outputs": [],
   "source": [
    "classes = ('plane','car','bird','cat','deer','dog','frog','horse','ship','truck')"
   ]
  },
  {
   "cell_type": "code",
   "execution_count": 20,
   "metadata": {},
   "outputs": [],
   "source": [
    "class ConvNet(nn.Module):\n",
    "    def __init__(self,) -> None:\n",
    "        super(ConvNet, self).__init__()\n",
    "        self.conv1 = nn.Conv2d(3, 6, 5)\n",
    "        self.pool = nn.MaxPool2d(2, 2)\n",
    "        self.conv2 = nn.Conv2d(6, 16, 5)\n",
    "        self.fc1 = nn.Linear(16*5*5, 120)\n",
    "        self.fc2 = nn.Linear(120, 84)\n",
    "        self.fc3 = nn.Linear(84, 10)\n",
    "\n",
    "    def forward(self, x):\n",
    "        x = self.pool(F.relu(self.conv1(x)))\n",
    "        x = self.pool(F.relu(self.conv2(x)))\n",
    "        x = x.view(-1, 16*5*5)\n",
    "        x = F.relu(self.fc1(x))\n",
    "        x = F.relu(self.fc2(x))\n",
    "        x = self.fc3(x)\n",
    "\n",
    "        return x"
   ]
  },
  {
   "cell_type": "code",
   "execution_count": 21,
   "metadata": {},
   "outputs": [],
   "source": [
    "model = ConvNet().to(device)\n",
    "loss = nn.CrossEntropyLoss()\n",
    "optimizer = torch.optim.SGD(model.parameters(), lr=l_r)"
   ]
  },
  {
   "cell_type": "code",
   "execution_count": 27,
   "metadata": {},
   "outputs": [
    {
     "name": "stdout",
     "output_type": "stream",
     "text": [
      "Epoch [1/4], Step [2000/12500], Loss: 1.5707\n",
      "Epoch [1/4], Step [4000/12500], Loss: 1.3217\n",
      "Epoch [1/4], Step [6000/12500], Loss: 1.4798\n",
      "Epoch [1/4], Step [8000/12500], Loss: 0.6317\n",
      "Epoch [1/4], Step [10000/12500], Loss: 0.6682\n",
      "Epoch [1/4], Step [12000/12500], Loss: 1.3702\n",
      "Epoch [2/4], Step [2000/12500], Loss: 1.3763\n",
      "Epoch [2/4], Step [4000/12500], Loss: 1.6064\n",
      "Epoch [2/4], Step [6000/12500], Loss: 1.7512\n",
      "Epoch [2/4], Step [8000/12500], Loss: 1.2202\n",
      "Epoch [2/4], Step [10000/12500], Loss: 1.2134\n",
      "Epoch [2/4], Step [12000/12500], Loss: 1.4485\n",
      "Epoch [3/4], Step [2000/12500], Loss: 2.2069\n",
      "Epoch [3/4], Step [4000/12500], Loss: 1.3358\n",
      "Epoch [3/4], Step [6000/12500], Loss: 1.8948\n",
      "Epoch [3/4], Step [8000/12500], Loss: 0.9716\n",
      "Epoch [3/4], Step [10000/12500], Loss: 0.9501\n",
      "Epoch [3/4], Step [12000/12500], Loss: 1.2283\n",
      "Epoch [4/4], Step [2000/12500], Loss: 1.2785\n",
      "Epoch [4/4], Step [4000/12500], Loss: 0.2922\n",
      "Epoch [4/4], Step [6000/12500], Loss: 1.2319\n",
      "Epoch [4/4], Step [8000/12500], Loss: 0.6316\n",
      "Epoch [4/4], Step [10000/12500], Loss: 0.6652\n",
      "Epoch [4/4], Step [12000/12500], Loss: 0.9953\n"
     ]
    }
   ],
   "source": [
    "n_total_steps = len(train_loader)\n",
    "for e in range(max_epochs):\n",
    "    for i,(img,lables) in enumerate(train_loader):\n",
    "\n",
    "        images = img.to(device)\n",
    "        lables = lables.to(device)\n",
    "\n",
    "        op = model(images)\n",
    "        l = loss(op, lables)\n",
    "\n",
    "        optimizer.zero_grad()\n",
    "        l.backward()\n",
    "        optimizer.step()\n",
    "\n",
    "        if (i+1) % 2000 == 0:\n",
    "            print (f'Epoch [{e+1}/{max_epochs}], Step [{i+1}/{n_total_steps}], Loss: {l.item():.4f}')"
   ]
  },
  {
   "cell_type": "code",
   "execution_count": 29,
   "metadata": {},
   "outputs": [
    {
     "name": "stdout",
     "output_type": "stream",
     "text": [
      "accuracy = 58.9300\n",
      "Accuracy of plane:69.5%\n",
      "Accuracy of car:69.4%\n",
      "Accuracy of bird:48.1%\n",
      "Accuracy of cat:31.1%\n",
      "Accuracy of deer:52.2%\n",
      "Accuracy of dog:45.8%\n",
      "Accuracy of frog:68.6%\n",
      "Accuracy of horse:68.7%\n",
      "Accuracy of ship:68.8%\n",
      "Accuracy of truck:67.1%\n"
     ]
    }
   ],
   "source": [
    "with torch.no_grad():\n",
    "    n_c = 0\n",
    "    n_samples = 0\n",
    "    \n",
    "    n_c_corect = [0 for i in range(10)]\n",
    "    n_class_samples = [0 for i in range(10)]\n",
    "\n",
    "    for images, lables in test_loader:\n",
    "        images = images.to(device)\n",
    "        lables = lables.to(device)\n",
    "        op = model(images)\n",
    "\n",
    "        _, pred = torch.max(op,1)\n",
    "\n",
    "        n_samples+= lables.size(0)\n",
    "\n",
    "        n_c+= (pred == lables).sum().item()\n",
    "\n",
    "        for i in range(batch_size):\n",
    "            label = lables[i]\n",
    "            predicted = pred[i]\n",
    "            if (label == predicted):\n",
    "                n_c_corect[label]+=1\n",
    "            n_class_samples[label]+=1\n",
    "\n",
    "    acc = 100 * (n_c / n_samples)\n",
    "    print(f'accuracy = {acc:.4f}')\n",
    "\n",
    "    for i in range(10):\n",
    "        acc = 100.0 * n_c_corect[i] / n_class_samples[i]\n",
    "        print(f'Accuracy of {classes[i]}:{acc}%')"
   ]
  },
  {
   "cell_type": "code",
   "execution_count": null,
   "metadata": {},
   "outputs": [],
   "source": []
  },
  {
   "cell_type": "code",
   "execution_count": null,
   "metadata": {},
   "outputs": [],
   "source": []
  },
  {
   "cell_type": "code",
   "execution_count": null,
   "metadata": {},
   "outputs": [],
   "source": []
  },
  {
   "cell_type": "code",
   "execution_count": null,
   "metadata": {},
   "outputs": [],
   "source": []
  },
  {
   "cell_type": "code",
   "execution_count": null,
   "metadata": {},
   "outputs": [],
   "source": []
  }
 ],
 "metadata": {
  "kernelspec": {
   "display_name": "Python 3",
   "language": "python",
   "name": "python3"
  },
  "language_info": {
   "codemirror_mode": {
    "name": "ipython",
    "version": 3
   },
   "file_extension": ".py",
   "mimetype": "text/x-python",
   "name": "python",
   "nbconvert_exporter": "python",
   "pygments_lexer": "ipython3",
   "version": "3.10.11"
  },
  "orig_nbformat": 4
 },
 "nbformat": 4,
 "nbformat_minor": 2
}
