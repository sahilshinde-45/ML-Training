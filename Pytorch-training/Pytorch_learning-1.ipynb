{
 "cells": [
  {
   "cell_type": "code",
   "execution_count": 3,
   "metadata": {},
   "outputs": [],
   "source": [
    "#!pip install torch"
   ]
  },
  {
   "cell_type": "code",
   "execution_count": 30,
   "metadata": {},
   "outputs": [],
   "source": [
    "import torch\n",
    "import numpy as np"
   ]
  },
  {
   "cell_type": "code",
   "execution_count": 9,
   "metadata": {},
   "outputs": [
    {
     "data": {
      "text/plain": [
       "tensor([[0., 0., 0.],\n",
       "        [0., 0., 0.],\n",
       "        [0., 0., 0.]])"
      ]
     },
     "execution_count": 9,
     "metadata": {},
     "output_type": "execute_result"
    }
   ],
   "source": [
    "x = torch.empty(3,3) # 2d with 3 element\n",
    "x"
   ]
  },
  {
   "cell_type": "code",
   "execution_count": 11,
   "metadata": {},
   "outputs": [
    {
     "data": {
      "text/plain": [
       "tensor([[0.4825, 0.3175],\n",
       "        [0.5911, 0.2967]])"
      ]
     },
     "execution_count": 11,
     "metadata": {},
     "output_type": "execute_result"
    }
   ],
   "source": [
    "x = torch.rand(2,2)  # random value\n",
    "x"
   ]
  },
  {
   "cell_type": "code",
   "execution_count": 12,
   "metadata": {},
   "outputs": [
    {
     "data": {
      "text/plain": [
       "tensor([[0., 0.],\n",
       "        [0., 0.]])"
      ]
     },
     "execution_count": 12,
     "metadata": {},
     "output_type": "execute_result"
    }
   ],
   "source": [
    "x = torch.zeros(2,2)\n",
    "x"
   ]
  },
  {
   "cell_type": "code",
   "execution_count": 15,
   "metadata": {},
   "outputs": [
    {
     "data": {
      "text/plain": [
       "tensor([[1, 1],\n",
       "        [1, 1],\n",
       "        [1, 1]])"
      ]
     },
     "execution_count": 15,
     "metadata": {},
     "output_type": "execute_result"
    }
   ],
   "source": [
    "x = torch.ones(3,2,dtype=int)\n",
    "x"
   ]
  },
  {
   "cell_type": "code",
   "execution_count": 16,
   "metadata": {},
   "outputs": [
    {
     "data": {
      "text/plain": [
       "torch.int64"
      ]
     },
     "execution_count": 16,
     "metadata": {},
     "output_type": "execute_result"
    }
   ],
   "source": [
    "x.dtype"
   ]
  },
  {
   "cell_type": "code",
   "execution_count": 18,
   "metadata": {},
   "outputs": [
    {
     "data": {
      "text/plain": [
       "torch.Size([3, 2])"
      ]
     },
     "execution_count": 18,
     "metadata": {},
     "output_type": "execute_result"
    }
   ],
   "source": [
    "x.size()  # 3 rows 2 cols"
   ]
  },
  {
   "cell_type": "code",
   "execution_count": 19,
   "metadata": {},
   "outputs": [
    {
     "data": {
      "text/plain": [
       "tensor([2.3000, 5.0000, 6.0000, 8.0000, 9.0000])"
      ]
     },
     "execution_count": 19,
     "metadata": {},
     "output_type": "execute_result"
    }
   ],
   "source": [
    "# create from data i.e list \n",
    "z = torch.tensor([2.3,5,6,8,9])\n",
    "z"
   ]
  },
  {
   "cell_type": "code",
   "execution_count": 20,
   "metadata": {},
   "outputs": [],
   "source": [
    "a = torch.rand(2,2)\n",
    "b = torch.rand(2,2)\n"
   ]
  },
  {
   "cell_type": "code",
   "execution_count": 21,
   "metadata": {},
   "outputs": [
    {
     "data": {
      "text/plain": [
       "tensor([[0.1012, 0.2182],\n",
       "        [0.5537, 0.9854]])"
      ]
     },
     "execution_count": 21,
     "metadata": {},
     "output_type": "execute_result"
    }
   ],
   "source": [
    "a"
   ]
  },
  {
   "cell_type": "code",
   "execution_count": 22,
   "metadata": {},
   "outputs": [
    {
     "data": {
      "text/plain": [
       "tensor([[0.5672, 0.1116],\n",
       "        [0.6843, 0.2375]])"
      ]
     },
     "execution_count": 22,
     "metadata": {},
     "output_type": "execute_result"
    }
   ],
   "source": [
    "b"
   ]
  },
  {
   "cell_type": "code",
   "execution_count": 29,
   "metadata": {},
   "outputs": [
    {
     "data": {
      "text/plain": [
       "tensor([[0.7696, 0.5480],\n",
       "        [1.7917, 2.2083]])"
      ]
     },
     "execution_count": 29,
     "metadata": {},
     "output_type": "execute_result"
    }
   ],
   "source": [
    "c = a + b # element wise addition\n",
    "c"
   ]
  },
  {
   "cell_type": "code",
   "execution_count": 28,
   "metadata": {},
   "outputs": [
    {
     "data": {
      "text/plain": [
       "tensor([[0.7696, 0.5480],\n",
       "        [1.7917, 2.2083]])"
      ]
     },
     "execution_count": 28,
     "metadata": {},
     "output_type": "execute_result"
    }
   ],
   "source": [
    "c = torch.add(a,b)\n",
    "c"
   ]
  },
  {
   "cell_type": "code",
   "execution_count": 27,
   "metadata": {},
   "outputs": [
    {
     "data": {
      "text/plain": [
       "tensor([[0.6684, 0.3298],\n",
       "        [1.2380, 1.2229]])"
      ]
     },
     "execution_count": 27,
     "metadata": {},
     "output_type": "execute_result"
    }
   ],
   "source": [
    "# inline addition\n",
    "# in pytorch every fucntion with underscore will do inplace addition.\n",
    "b.add_(a)\n",
    "b"
   ]
  },
  {
   "cell_type": "code",
   "execution_count": 32,
   "metadata": {},
   "outputs": [
    {
     "data": {
      "text/plain": [
       "tensor([[1., 1., 1.],\n",
       "        [1., 1., 1.],\n",
       "        [1., 1., 1.]])"
      ]
     },
     "execution_count": 32,
     "metadata": {},
     "output_type": "execute_result"
    }
   ],
   "source": [
    "r = torch.ones(3,3)\n",
    "r"
   ]
  },
  {
   "cell_type": "code",
   "execution_count": 33,
   "metadata": {},
   "outputs": [
    {
     "data": {
      "text/plain": [
       "array([[1., 1., 1.],\n",
       "       [1., 1., 1.],\n",
       "       [1., 1., 1.]], dtype=float32)"
      ]
     },
     "execution_count": 33,
     "metadata": {},
     "output_type": "execute_result"
    }
   ],
   "source": [
    "s = r.numpy()  # converting to numpy\n",
    "s"
   ]
  },
  {
   "cell_type": "code",
   "execution_count": 34,
   "metadata": {},
   "outputs": [
    {
     "data": {
      "text/plain": [
       "False"
      ]
     },
     "execution_count": 34,
     "metadata": {},
     "output_type": "execute_result"
    }
   ],
   "source": [
    "torch.cuda.is_available()"
   ]
  },
  {
   "attachments": {},
   "cell_type": "markdown",
   "metadata": {},
   "source": [
    "## AUTOGRAD"
   ]
  },
  {
   "cell_type": "code",
   "execution_count": 45,
   "metadata": {},
   "outputs": [
    {
     "data": {
      "text/plain": [
       "tensor([ 0.2627, -0.9207, -1.1801], requires_grad=True)"
      ]
     },
     "execution_count": 45,
     "metadata": {},
     "output_type": "execute_result"
    }
   ],
   "source": [
    "x = torch.randn(3, requires_grad=True)\n",
    "x"
   ]
  },
  {
   "cell_type": "code",
   "execution_count": 46,
   "metadata": {},
   "outputs": [
    {
     "data": {
      "text/plain": [
       "tensor([2.2627, 1.0793, 0.8199], grad_fn=<AddBackward0>)"
      ]
     },
     "execution_count": 46,
     "metadata": {},
     "output_type": "execute_result"
    }
   ],
   "source": [
    "y = x + 2\n",
    "y"
   ]
  },
  {
   "cell_type": "code",
   "execution_count": 47,
   "metadata": {},
   "outputs": [
    {
     "data": {
      "text/plain": [
       "tensor([10.2394,  2.3296,  1.3444], grad_fn=<MulBackward0>)"
      ]
     },
     "execution_count": 47,
     "metadata": {},
     "output_type": "execute_result"
    }
   ],
   "source": [
    "z = y*y*2\n",
    "z"
   ]
  },
  {
   "cell_type": "code",
   "execution_count": 48,
   "metadata": {},
   "outputs": [
    {
     "data": {
      "text/plain": [
       "tensor(4.6378, grad_fn=<MeanBackward0>)"
      ]
     },
     "execution_count": 48,
     "metadata": {},
     "output_type": "execute_result"
    }
   ],
   "source": [
    "z = z.mean()\n",
    "z"
   ]
  },
  {
   "cell_type": "code",
   "execution_count": 50,
   "metadata": {},
   "outputs": [
    {
     "name": "stdout",
     "output_type": "stream",
     "text": [
      "tensor([3.0169, 1.4390, 1.0932])\n"
     ]
    }
   ],
   "source": [
    "z.backward()\n",
    "print(x.grad)"
   ]
  },
  {
   "cell_type": "code",
   "execution_count": 54,
   "metadata": {},
   "outputs": [
    {
     "name": "stdout",
     "output_type": "stream",
     "text": [
      "tensor([3., 3., 3., 3.])\n",
      "tensor([3., 3., 3., 3.])\n",
      "tensor([3., 3., 3., 3.])\n"
     ]
    }
   ],
   "source": [
    "weights = torch.ones(4,requires_grad=True)\n",
    "for epoch in range(3):\n",
    "    model_op = (weights * 3).sum()\n",
    "    model_op.backward()\n",
    "    print(weights.grad)\n",
    "\n",
    "    weights.grad.zero_()"
   ]
  },
  {
   "attachments": {},
   "cell_type": "markdown",
   "metadata": {},
   "source": [
    "## LINEAR REGRESSION"
   ]
  },
  {
   "attachments": {},
   "cell_type": "markdown",
   "metadata": {},
   "source": [
    "# numpy"
   ]
  },
  {
   "cell_type": "code",
   "execution_count": 55,
   "metadata": {},
   "outputs": [],
   "source": [
    "import numpy as np"
   ]
  },
  {
   "cell_type": "code",
   "execution_count": 56,
   "metadata": {},
   "outputs": [],
   "source": [
    "x = np.array([1,2,3,4], dtype=np.float32)\n",
    "y = np.array([2,4,6,8], dtype=np.float32)\n",
    "\n",
    "# 2*x"
   ]
  },
  {
   "cell_type": "code",
   "execution_count": 57,
   "metadata": {},
   "outputs": [],
   "source": [
    "w = 0.0"
   ]
  },
  {
   "cell_type": "code",
   "execution_count": 58,
   "metadata": {},
   "outputs": [],
   "source": [
    "def forward(x):\n",
    "    return w * x\n",
    "\n",
    "\n",
    "def loss(y, y_pred):\n",
    "    return ((y_pred - y)**2).mean() \n",
    "\n",
    "def gradient(x,y,y_pred):\n",
    "    return np.dot(2*x, y_pred-y).mean()"
   ]
  },
  {
   "cell_type": "code",
   "execution_count": 63,
   "metadata": {},
   "outputs": [
    {
     "name": "stdout",
     "output_type": "stream",
     "text": [
      "Prediction before training f(5) : 8.926\n",
      " epoch --> 1 : w = 1.914, loss = 0.34587651\n",
      " epoch --> 2 : w = 1.966, loss = 0.05534024\n",
      " epoch --> 3 : w = 1.986, loss = 0.00885440\n",
      " epoch --> 4 : w = 1.995, loss = 0.00141673\n",
      " epoch --> 5 : w = 1.998, loss = 0.00022668\n",
      " epoch --> 6 : w = 1.999, loss = 0.00003626\n",
      " epoch --> 7 : w = 2.000, loss = 0.00000580\n",
      " epoch --> 8 : w = 2.000, loss = 0.00000093\n",
      " epoch --> 9 : w = 2.000, loss = 0.00000015\n",
      " epoch --> 10 : w = 2.000, loss = 0.00000002\n",
      "Prediction after training f(5) : 10.000\n"
     ]
    }
   ],
   "source": [
    "print(f\"Prediction before training f(5) : {forward(5):.3f}\")\n",
    "\n",
    "lr = 0.01\n",
    "epochs = 10\n",
    "\n",
    "for e in range(epochs):\n",
    "    # forward pass\n",
    "    y_pred = forward(x)\n",
    "    # loss calculation\n",
    "    l = loss(y, y_pred)\n",
    "    # gradient descent\n",
    "    dw = gradient(x,y,y_pred)\n",
    "    # update weights\n",
    "    w-= lr * dw \n",
    "\n",
    "    if e % 1 == 0:\n",
    "        print(f\" epoch --> {e + 1} : w = {w :.3f}, loss = {l:.8f}\")\n",
    "\n",
    "print(f\"Prediction after training f(5) : {forward(5):.3f}\")"
   ]
  },
  {
   "attachments": {},
   "cell_type": "markdown",
   "metadata": {},
   "source": [
    "# pytorch"
   ]
  },
  {
   "cell_type": "code",
   "execution_count": 64,
   "metadata": {},
   "outputs": [],
   "source": [
    "import torch"
   ]
  },
  {
   "cell_type": "code",
   "execution_count": 65,
   "metadata": {},
   "outputs": [],
   "source": [
    "x = torch.tensor([1,2,3,4], dtype=torch.float32)\n",
    "y = torch.tensor([2,4,6,8], dtype=torch.float32)\n"
   ]
  },
  {
   "cell_type": "code",
   "execution_count": 67,
   "metadata": {},
   "outputs": [],
   "source": [
    "w = torch.tensor(0.0, dtype=torch.float32, requires_grad= True)"
   ]
  },
  {
   "cell_type": "code",
   "execution_count": 68,
   "metadata": {},
   "outputs": [],
   "source": [
    "def forward(x):\n",
    "    return w * x\n",
    "\n",
    "\n",
    "def loss(y, y_pred):\n",
    "    return ((y_pred - y)**2).mean() "
   ]
  },
  {
   "cell_type": "code",
   "execution_count": 75,
   "metadata": {},
   "outputs": [
    {
     "name": "stdout",
     "output_type": "stream",
     "text": [
      "Prediction before training f(5) : 9.999\n",
      " epoch --> 1 : w = 2.000, loss = 0.00000010\n",
      " epoch --> 2 : w = 2.000, loss = 0.00000007\n",
      " epoch --> 3 : w = 2.000, loss = 0.00000005\n",
      " epoch --> 4 : w = 2.000, loss = 0.00000004\n",
      " epoch --> 5 : w = 2.000, loss = 0.00000003\n",
      " epoch --> 6 : w = 2.000, loss = 0.00000002\n",
      " epoch --> 7 : w = 2.000, loss = 0.00000001\n",
      " epoch --> 8 : w = 2.000, loss = 0.00000001\n",
      " epoch --> 9 : w = 2.000, loss = 0.00000001\n",
      " epoch --> 10 : w = 2.000, loss = 0.00000001\n",
      "Prediction after training f(5) : 10.000\n"
     ]
    }
   ],
   "source": [
    "print(f\"Prediction before training f(5) : {forward(5):.3f}\")\n",
    "\n",
    "lr = 0.01\n",
    "epochs = 10\n",
    "\n",
    "for e in range(epochs):\n",
    "    # forward pass\n",
    "    y_pred = forward(x)\n",
    "    # loss calculation\n",
    "    l = loss(y, y_pred)\n",
    "\n",
    "    # for gradient \n",
    "    l.backward()\n",
    "\n",
    "    with torch.no_grad():\n",
    "        w-= lr * w.grad\n",
    "\n",
    "    # zero gradients.\n",
    "    w.grad.zero_()\n",
    "\n",
    "    if e % 1 == 0:\n",
    "        print(f\" epoch --> {e + 1} : w = {w :.3f}, loss = {l:.8f}\")\n",
    "\n",
    "print(f\"Prediction after training f(5) : {forward(5):.3f}\")"
   ]
  },
  {
   "attachments": {},
   "cell_type": "markdown",
   "metadata": {},
   "source": [
    "### MODEL DESIGN"
   ]
  },
  {
   "attachments": {},
   "cell_type": "markdown",
   "metadata": {},
   "source": [
    "1. Design model (input_size, output_size, forward_pass)\n",
    "2. Construct loss and optimiser\n",
    "3. Training loop\n",
    "   3.a) forward_pass : compute predictions\n",
    "   3.b) backward_pass : gradients\n",
    "   3.c) update_weight"
   ]
  },
  {
   "cell_type": "code",
   "execution_count": 79,
   "metadata": {},
   "outputs": [],
   "source": [
    "import torch.nn as nn"
   ]
  },
  {
   "cell_type": "code",
   "execution_count": 91,
   "metadata": {},
   "outputs": [],
   "source": [
    "x = torch.tensor([[1],[2],[3],[4]], dtype=torch.float32)\n",
    "y = torch.tensor([[2],[4],[6],[8]], dtype=torch.float32)\n",
    "x_test = torch.tensor([5], dtype = torch.float32)"
   ]
  },
  {
   "cell_type": "code",
   "execution_count": 90,
   "metadata": {},
   "outputs": [],
   "source": [
    "n_samples, n_feature = x.shape"
   ]
  },
  {
   "cell_type": "code",
   "execution_count": 93,
   "metadata": {},
   "outputs": [],
   "source": [
    "model = nn.Linear(n_feature,n_feature)"
   ]
  },
  {
   "cell_type": "code",
   "execution_count": 94,
   "metadata": {},
   "outputs": [],
   "source": [
    "loss = nn.MSELoss()"
   ]
  },
  {
   "cell_type": "code",
   "execution_count": 95,
   "metadata": {},
   "outputs": [],
   "source": [
    "lr = 0.01\n",
    "epochs = 10\n",
    "optimiser = torch.optim.SGD(model.parameters(), lr=lr)"
   ]
  },
  {
   "cell_type": "code",
   "execution_count": 97,
   "metadata": {},
   "outputs": [
    {
     "name": "stdout",
     "output_type": "stream",
     "text": [
      "Prediction before training f(5) : 9.657\n",
      " epoch --> 1 : w = 1.834, loss = 0.04012112\n",
      " epoch --> 11 : w = 1.839, loss = 0.03778582\n",
      " epoch --> 21 : w = 1.843, loss = 0.03558649\n",
      " epoch --> 31 : w = 1.848, loss = 0.03351517\n",
      " epoch --> 41 : w = 1.853, loss = 0.03156442\n",
      " epoch --> 51 : w = 1.857, loss = 0.02972719\n",
      " epoch --> 61 : w = 1.861, loss = 0.02799693\n",
      " epoch --> 71 : w = 1.865, loss = 0.02636734\n",
      " epoch --> 81 : w = 1.869, loss = 0.02483263\n",
      " epoch --> 91 : w = 1.873, loss = 0.02338723\n",
      "Prediction after training f(5) : 9.746\n"
     ]
    }
   ],
   "source": [
    "print(f\"Prediction before training f(5) : {model(x_test).item():.3f}\")\n",
    "\n",
    "lr = 0.01\n",
    "epochs = 100\n",
    "\n",
    "for e in range(epochs):\n",
    "    # forward pass\n",
    "    y_pred  = model(x)\n",
    "    # loss calculation\n",
    "    l = loss(y, y_pred)\n",
    "\n",
    "    # for gradient \n",
    "    l.backward()\n",
    "\n",
    "    optimiser.step()\n",
    "    optimiser.zero_grad()\n",
    "\n",
    "    if e % 10 == 0:\n",
    "        [w,b] = model.parameters()\n",
    "        print(f\" epoch --> {e + 1} : w = {w[0][0].item() :.3f}, loss = {l:.8f}\")\n",
    "\n",
    "print(f\"Prediction after training f(5) : {model(x_test).item():.3f}\")"
   ]
  },
  {
   "cell_type": "code",
   "execution_count": null,
   "metadata": {},
   "outputs": [],
   "source": []
  }
 ],
 "metadata": {
  "kernelspec": {
   "display_name": "Python 3",
   "language": "python",
   "name": "python3"
  },
  "language_info": {
   "codemirror_mode": {
    "name": "ipython",
    "version": 3
   },
   "file_extension": ".py",
   "mimetype": "text/x-python",
   "name": "python",
   "nbconvert_exporter": "python",
   "pygments_lexer": "ipython3",
   "version": "3.10.11"
  },
  "orig_nbformat": 4
 },
 "nbformat": 4,
 "nbformat_minor": 2
}
