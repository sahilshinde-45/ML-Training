{
 "cells": [
  {
   "cell_type": "code",
   "execution_count": 18,
   "metadata": {},
   "outputs": [],
   "source": [
    "#!pip install torchvision"
   ]
  },
  {
   "cell_type": "code",
   "execution_count": 19,
   "metadata": {},
   "outputs": [],
   "source": [
    "import torch\n",
    "import torchvision\n",
    "from torch.utils.data import Dataset, DataLoader\n",
    "import numpy as np\n",
    "import math"
   ]
  },
  {
   "cell_type": "code",
   "execution_count": 20,
   "metadata": {},
   "outputs": [],
   "source": [
    "class WineDataset(Dataset):\n",
    "\n",
    "    def __init__(self) -> None:\n",
    "        \n",
    "        xy = np.loadtxt('wine.csv',delimiter=',',dtype=np.float32,skiprows=1)\n",
    "        self.x = torch.from_numpy(xy[:, 1:])\n",
    "        self.y = torch.from_numpy(xy[:, [0]])\n",
    "        self.n_samples = xy.shape[0]\n",
    "\n",
    "    def __getitem__(self, index):\n",
    "        return self.x[index] , self.y[index]\n",
    "    \n",
    "    def __len__(self):\n",
    "        return self.n_samples"
   ]
  },
  {
   "cell_type": "code",
   "execution_count": 21,
   "metadata": {},
   "outputs": [
    {
     "name": "stdout",
     "output_type": "stream",
     "text": [
      "tensor([1.4230e+01, 1.7100e+00, 2.4300e+00, 1.5600e+01, 1.2700e+02, 2.8000e+00,\n",
      "        3.0600e+00, 2.8000e-01, 2.2900e+00, 5.6400e+00, 1.0400e+00, 3.9200e+00,\n",
      "        1.0650e+03]) tensor([1.])\n"
     ]
    }
   ],
   "source": [
    "dataset = WineDataset()\n",
    "first_data = dataset[0]\n",
    "features, labels = first_data\n",
    "print(features, labels)"
   ]
  },
  {
   "cell_type": "code",
   "execution_count": 22,
   "metadata": {},
   "outputs": [],
   "source": [
    "dataloader = DataLoader(dataset=dataset, batch_size=4, shuffle=True, num_workers=0)"
   ]
  },
  {
   "cell_type": "code",
   "execution_count": 23,
   "metadata": {},
   "outputs": [
    {
     "name": "stdout",
     "output_type": "stream",
     "text": [
      "tensor([[1.4190e+01, 1.5900e+00, 2.4800e+00, 1.6500e+01, 1.0800e+02, 3.3000e+00,\n",
      "         3.9300e+00, 3.2000e-01, 1.8600e+00, 8.7000e+00, 1.2300e+00, 2.8200e+00,\n",
      "         1.6800e+03],\n",
      "        [1.2420e+01, 4.4300e+00, 2.7300e+00, 2.6500e+01, 1.0200e+02, 2.2000e+00,\n",
      "         2.1300e+00, 4.3000e-01, 1.7100e+00, 2.0800e+00, 9.2000e-01, 3.1200e+00,\n",
      "         3.6500e+02],\n",
      "        [1.3080e+01, 3.9000e+00, 2.3600e+00, 2.1500e+01, 1.1300e+02, 1.4100e+00,\n",
      "         1.3900e+00, 3.4000e-01, 1.1400e+00, 9.4000e+00, 5.7000e-01, 1.3300e+00,\n",
      "         5.5000e+02],\n",
      "        [1.3200e+01, 1.7800e+00, 2.1400e+00, 1.1200e+01, 1.0000e+02, 2.6500e+00,\n",
      "         2.7600e+00, 2.6000e-01, 1.2800e+00, 4.3800e+00, 1.0500e+00, 3.4000e+00,\n",
      "         1.0500e+03]]) tensor([[1.],\n",
      "        [2.],\n",
      "        [3.],\n",
      "        [1.]])\n"
     ]
    }
   ],
   "source": [
    "dataiter = iter(dataloader)\n",
    "data = next(dataiter)\n",
    "features, labels = data\n",
    "print(features, labels)\n"
   ]
  },
  {
   "cell_type": "code",
   "execution_count": 24,
   "metadata": {},
   "outputs": [
    {
     "name": "stdout",
     "output_type": "stream",
     "text": [
      "178 45\n"
     ]
    }
   ],
   "source": [
    "num_epochs = 2\n",
    "total_samples = len(dataset)\n",
    "n_iternations = math.ceil(total_samples / 4)\n",
    "print(total_samples, n_iternations)"
   ]
  },
  {
   "cell_type": "code",
   "execution_count": 37,
   "metadata": {},
   "outputs": [
    {
     "name": "stdout",
     "output_type": "stream",
     "text": [
      "epoch 1/2, step: 5/45, input: torch.Size([4, 13])\n",
      "epoch 1/2, step: 10/45, input: torch.Size([4, 13])\n",
      "epoch 1/2, step: 15/45, input: torch.Size([4, 13])\n",
      "epoch 1/2, step: 20/45, input: torch.Size([4, 13])\n",
      "epoch 1/2, step: 25/45, input: torch.Size([4, 13])\n",
      "epoch 1/2, step: 30/45, input: torch.Size([4, 13])\n",
      "epoch 1/2, step: 35/45, input: torch.Size([4, 13])\n",
      "epoch 1/2, step: 40/45, input: torch.Size([4, 13])\n",
      "epoch 1/2, step: 45/45, input: torch.Size([2, 13])\n",
      "epoch 2/2, step: 5/45, input: torch.Size([4, 13])\n",
      "epoch 2/2, step: 10/45, input: torch.Size([4, 13])\n",
      "epoch 2/2, step: 15/45, input: torch.Size([4, 13])\n",
      "epoch 2/2, step: 20/45, input: torch.Size([4, 13])\n",
      "epoch 2/2, step: 25/45, input: torch.Size([4, 13])\n",
      "epoch 2/2, step: 30/45, input: torch.Size([4, 13])\n",
      "epoch 2/2, step: 35/45, input: torch.Size([4, 13])\n",
      "epoch 2/2, step: 40/45, input: torch.Size([4, 13])\n",
      "epoch 2/2, step: 45/45, input: torch.Size([2, 13])\n"
     ]
    }
   ],
   "source": [
    "for epoch in range(num_epochs):\n",
    "    for i , (inputs, labels) in enumerate(dataloader):\n",
    "        # forward , updation\n",
    "        if (i+1) % 5==0:\n",
    "            print(f\"epoch {epoch + 1}/{num_epochs}, step: {i + 1}/{n_iternations}, input: {inputs.shape}\")"
   ]
  },
  {
   "cell_type": "code",
   "execution_count": null,
   "metadata": {},
   "outputs": [],
   "source": []
  }
 ],
 "metadata": {
  "kernelspec": {
   "display_name": "Python 3",
   "language": "python",
   "name": "python3"
  },
  "language_info": {
   "codemirror_mode": {
    "name": "ipython",
    "version": 3
   },
   "file_extension": ".py",
   "mimetype": "text/x-python",
   "name": "python",
   "nbconvert_exporter": "python",
   "pygments_lexer": "ipython3",
   "version": "3.10.11"
  },
  "orig_nbformat": 4
 },
 "nbformat": 4,
 "nbformat_minor": 2
}
