{
 "cells": [
  {
   "attachments": {},
   "cell_type": "markdown",
   "metadata": {},
   "source": [
    "## LINEAR REGRESSION"
   ]
  },
  {
   "attachments": {},
   "cell_type": "markdown",
   "metadata": {},
   "source": [
    "STEPS TO BE FOLLOWED\n",
    "1) Design a model (input_size, output_size, forward_pass)\n",
    "2) Construct loss and optimiser\n",
    "3) Training loop \n",
    "   1) forward pass : compute prediction and loss\n",
    "   2) backward pass : gradient\n",
    "   3) update weights"
   ]
  },
  {
   "cell_type": "code",
   "execution_count": 1,
   "metadata": {},
   "outputs": [],
   "source": [
    "import torch\n",
    "import torch.nn as nn\n",
    "import numpy as np\n",
    "from sklearn import datasets\n",
    "import matplotlib.pyplot as plt\n"
   ]
  },
  {
   "cell_type": "code",
   "execution_count": 7,
   "metadata": {},
   "outputs": [],
   "source": [
    "# generate dataset\n",
    "x_numpy, y_numpy = datasets.make_regression(n_samples=100, n_features=1, noise=20, random_state=1)\n",
    "x = torch.from_numpy(x_numpy.astype(np.float32))\n",
    "y = torch.from_numpy(y_numpy.astype(np.float32))\n",
    "y = y.view(y.shape[0],1)"
   ]
  },
  {
   "cell_type": "code",
   "execution_count": 8,
   "metadata": {},
   "outputs": [],
   "source": [
    "n_samples, n_features = x.shape"
   ]
  },
  {
   "cell_type": "code",
   "execution_count": 10,
   "metadata": {},
   "outputs": [],
   "source": [
    "# model\n",
    "model = nn.Linear(n_features,n_features)"
   ]
  },
  {
   "cell_type": "code",
   "execution_count": 13,
   "metadata": {},
   "outputs": [],
   "source": [
    "# loss and optimiser\n",
    "lr = 0.01\n",
    "epochs = 100\n",
    "loss = nn.MSELoss()\n",
    "optimiser = torch.optim.SGD(model.parameters(),lr=lr)"
   ]
  },
  {
   "cell_type": "code",
   "execution_count": 14,
   "metadata": {},
   "outputs": [
    {
     "name": "stdout",
     "output_type": "stream",
     "text": [
      "epoch: 10, loss: 4278.93603516\n",
      "epoch: 20, loss: 3196.49780273\n",
      "epoch: 30, loss: 2412.70971680\n",
      "epoch: 40, loss: 1844.59863281\n",
      "epoch: 50, loss: 1432.43017578\n",
      "epoch: 60, loss: 1133.14099121\n",
      "epoch: 70, loss: 915.64361572\n",
      "epoch: 80, loss: 757.46911621\n",
      "epoch: 90, loss: 642.36010742\n",
      "epoch: 100, loss: 558.53930664\n"
     ]
    }
   ],
   "source": [
    "# training loop\n",
    "for e in range(epochs):\n",
    "    y_pred = model(x)\n",
    "\n",
    "    l = loss(y_pred, y)\n",
    "\n",
    "    l.backward()\n",
    "\n",
    "    optimiser.step()\n",
    "\n",
    "    optimiser.zero_grad()\n",
    "\n",
    "    if (e + 1) % 10 ==0:\n",
    "        print(f\"epoch: {e + 1}, loss: {l.item():.8f}\")"
   ]
  },
  {
   "cell_type": "code",
   "execution_count": 15,
   "metadata": {},
   "outputs": [
    {
     "data": {
      "image/png": "[encoded data removed]",
      "text/plain": [
       "<Figure size 640x480 with 1 Axes>"
      ]
     },
     "metadata": {},
     "output_type": "display_data"
    }
   ],
   "source": [
    "# plot\n",
    "predicted = model(x).detach().numpy()\n",
    "plt.plot(x_numpy,y_numpy,'ro')\n",
    "plt.plot(x_numpy,predicted,'b')\n",
    "plt.show()"
   ]
  },
  {
   "attachments": {},
   "cell_type": "markdown",
   "metadata": {},
   "source": [
    "## LOGISTIC REGRESSION"
   ]
  },
  {
   "cell_type": "code",
   "execution_count": 16,
   "metadata": {},
   "outputs": [],
   "source": [
    "from sklearn.preprocessing import StandardScaler\n",
    "from sklearn.model_selection import train_test_split"
   ]
  },
  {
   "cell_type": "code",
   "execution_count": 17,
   "metadata": {},
   "outputs": [],
   "source": [
    "bc = datasets.load_breast_cancer()\n",
    "x,y = bc.data, bc.target"
   ]
  },
  {
   "cell_type": "code",
   "execution_count": 18,
   "metadata": {},
   "outputs": [],
   "source": [
    "n_samples, n_features = x.shape"
   ]
  },
  {
   "cell_type": "code",
   "execution_count": 20,
   "metadata": {},
   "outputs": [],
   "source": [
    "x_train, x_test, y_train, y_test = train_test_split(x, y, test_size=0.2, random_state=0)"
   ]
  },
  {
   "cell_type": "code",
   "execution_count": 22,
   "metadata": {},
   "outputs": [],
   "source": [
    "sc = StandardScaler()\n",
    "x_train = sc.fit_transform(x_train)\n",
    "x_test = sc.transform(x_test)"
   ]
  },
  {
   "cell_type": "code",
   "execution_count": 23,
   "metadata": {},
   "outputs": [],
   "source": [
    "x_train = torch.from_numpy(x_train.astype(np.float32))\n",
    "x_test = torch.from_numpy(x_test.astype(np.float32))\n",
    "y_train = torch.from_numpy(y_train.astype(np.float32))\n",
    "y_test = torch.from_numpy(y_test.astype(np.float32))"
   ]
  },
  {
   "cell_type": "code",
   "execution_count": 24,
   "metadata": {},
   "outputs": [],
   "source": [
    "y_train = y_train.view(y_train.shape[0],1)\n",
    "y_test = y_test.view(y_test.shape[0],1)"
   ]
  },
  {
   "cell_type": "code",
   "execution_count": 28,
   "metadata": {},
   "outputs": [],
   "source": [
    "# model\n",
    "# f = wx + b\n",
    "\n",
    "class LogisticRegression(nn.Module):\n",
    "\n",
    "    def __init__(self, *args, **kwargs) -> None:\n",
    "        super(LogisticRegression, self).__init__()\n",
    "        self.linear = nn.Linear(n_features,1)\n",
    "\n",
    "    \n",
    "    def forward(self,x):\n",
    "        y_pred = torch.sigmoid(self.linear(x))\n",
    "        return y_pred\n",
    "    \n",
    "model = LogisticRegression(n_features)"
   ]
  },
  {
   "cell_type": "code",
   "execution_count": 29,
   "metadata": {},
   "outputs": [],
   "source": [
    "# loss and optimiser\n",
    "lr = 0.01\n",
    "epochs = 100\n",
    "\n",
    "loss = nn.BCELoss()\n",
    "optimiser = torch.optim.SGD(model.parameters(), lr=lr)"
   ]
  },
  {
   "cell_type": "code",
   "execution_count": 34,
   "metadata": {},
   "outputs": [
    {
     "name": "stdout",
     "output_type": "stream",
     "text": [
      "epoch: 10, loss:0.1804\n",
      "epoch: 20, loss:0.1769\n",
      "epoch: 30, loss:0.1736\n",
      "epoch: 40, loss:0.1705\n",
      "epoch: 50, loss:0.1676\n",
      "epoch: 60, loss:0.1649\n",
      "epoch: 70, loss:0.1623\n",
      "epoch: 80, loss:0.1599\n",
      "epoch: 90, loss:0.1576\n",
      "epoch: 100, loss:0.1554\n",
      "\n",
      " ACCURACY:0.9386\n"
     ]
    }
   ],
   "source": [
    "# training loop\n",
    "for e in range(epochs):\n",
    "\n",
    "    y_pred = model(x_train)\n",
    "    l = loss(y_pred,y_train)\n",
    "    l.backward()\n",
    "    optimiser.step()\n",
    "    optimiser.zero_grad()\n",
    "\n",
    "    if (e+1) % 10 ==0:\n",
    "        print(f\"epoch: {e+1}, loss:{l.item():.4f}\")\n",
    "\n",
    "\n",
    "with torch.no_grad():\n",
    "    y_pred = model(x_test)\n",
    "    y_pred_cls = y_pred.round()\n",
    "    acc = y_pred_cls.eq(y_test).sum() / float(y_test.shape[0])\n",
    "\n",
    "    print(f\"\\n ACCURACY:{acc:.4f}\")\n"
   ]
  },
  {
   "cell_type": "code",
   "execution_count": null,
   "metadata": {},
   "outputs": [],
   "source": []
  }
 ],
 "metadata": {
  "kernelspec": {
   "display_name": "Python 3",
   "language": "python",
   "name": "python3"
  },
  "language_info": {
   "codemirror_mode": {
    "name": "ipython",
    "version": 3
   },
   "file_extension": ".py",
   "mimetype": "text/x-python",
   "name": "python",
   "nbconvert_exporter": "python",
   "pygments_lexer": "ipython3",
   "version": "3.10.11"
  },
  "orig_nbformat": 4
 },
 "nbformat": 4,
 "nbformat_minor": 2
}
