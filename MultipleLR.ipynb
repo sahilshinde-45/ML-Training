{
 "cells": [
  {
   "cell_type": "code",
   "execution_count": 1,
   "metadata": {},
   "outputs": [],
   "source": [
    "#!pip install numpy\n",
    "#!pip install matplotlib\n",
    "#!pip install pandas\n",
    "#!pip install -U scikit-learn"
   ]
  },
  {
   "cell_type": "code",
   "execution_count": 2,
   "metadata": {},
   "outputs": [],
   "source": [
    "import numpy as np\n",
    "import matplotlib.pyplot as plt\n",
    "import pandas as pd"
   ]
  },
  {
   "cell_type": "code",
   "execution_count": 3,
   "metadata": {},
   "outputs": [
    {
     "data": {
      "text/html": [
       "<div>\n",
       "<style scoped>\n",
       "    .dataframe tbody tr th:only-of-type {\n",
       "        vertical-align: middle;\n",
       "    }\n",
       "\n",
       "    .dataframe tbody tr th {\n",
       "        vertical-align: top;\n",
       "    }\n",
       "\n",
       "    .dataframe thead th {\n",
       "        text-align: right;\n",
       "    }\n",
       "</style>\n",
       "<table border=\"1\" class=\"dataframe\">\n",
       "  <thead>\n",
       "    <tr style=\"text-align: right;\">\n",
       "      <th></th>\n",
       "      <th>R&amp;D Spend</th>\n",
       "      <th>Administration</th>\n",
       "      <th>Marketing Spend</th>\n",
       "      <th>State</th>\n",
       "      <th>Profit</th>\n",
       "    </tr>\n",
       "  </thead>\n",
       "  <tbody>\n",
       "    <tr>\n",
       "      <th>0</th>\n",
       "      <td>165349.20</td>\n",
       "      <td>136897.80</td>\n",
       "      <td>471784.10</td>\n",
       "      <td>New York</td>\n",
       "      <td>192261.83</td>\n",
       "    </tr>\n",
       "    <tr>\n",
       "      <th>1</th>\n",
       "      <td>162597.70</td>\n",
       "      <td>151377.59</td>\n",
       "      <td>443898.53</td>\n",
       "      <td>California</td>\n",
       "      <td>191792.06</td>\n",
       "    </tr>\n",
       "    <tr>\n",
       "      <th>2</th>\n",
       "      <td>153441.51</td>\n",
       "      <td>101145.55</td>\n",
       "      <td>407934.54</td>\n",
       "      <td>Florida</td>\n",
       "      <td>191050.39</td>\n",
       "    </tr>\n",
       "    <tr>\n",
       "      <th>3</th>\n",
       "      <td>144372.41</td>\n",
       "      <td>118671.85</td>\n",
       "      <td>383199.62</td>\n",
       "      <td>New York</td>\n",
       "      <td>182901.99</td>\n",
       "    </tr>\n",
       "    <tr>\n",
       "      <th>4</th>\n",
       "      <td>142107.34</td>\n",
       "      <td>91391.77</td>\n",
       "      <td>366168.42</td>\n",
       "      <td>Florida</td>\n",
       "      <td>166187.94</td>\n",
       "    </tr>\n",
       "  </tbody>\n",
       "</table>\n",
       "</div>"
      ],
      "text/plain": [
       "   R&D Spend  Administration  Marketing Spend       State     Profit\n",
       "0  165349.20       136897.80        471784.10    New York  192261.83\n",
       "1  162597.70       151377.59        443898.53  California  191792.06\n",
       "2  153441.51       101145.55        407934.54     Florida  191050.39\n",
       "3  144372.41       118671.85        383199.62    New York  182901.99\n",
       "4  142107.34        91391.77        366168.42     Florida  166187.94"
      ]
     },
     "execution_count": 3,
     "metadata": {},
     "output_type": "execute_result"
    }
   ],
   "source": [
    "dataset = pd.read_csv('Dataset/50_Startups.csv')\n",
    "dataset.head()"
   ]
  },
  {
   "cell_type": "code",
   "execution_count": 4,
   "metadata": {},
   "outputs": [
    {
     "data": {
      "text/plain": [
       "array([[165349.2, 136897.8, 471784.1, 'New York'],\n",
       "       [162597.7, 151377.59, 443898.53, 'California'],\n",
       "       [153441.51, 101145.55, 407934.54, 'Florida'],\n",
       "       [144372.41, 118671.85, 383199.62, 'New York'],\n",
       "       [142107.34, 91391.77, 366168.42, 'Florida'],\n",
       "       [131876.9, 99814.71, 362861.36, 'New York'],\n",
       "       [134615.46, 147198.87, 127716.82, 'California'],\n",
       "       [130298.13, 145530.06, 323876.68, 'Florida'],\n",
       "       [120542.52, 148718.95, 311613.29, 'New York'],\n",
       "       [123334.88, 108679.17, 304981.62, 'California'],\n",
       "       [101913.08, 110594.11, 229160.95, 'Florida'],\n",
       "       [100671.96, 91790.61, 249744.55, 'California'],\n",
       "       [93863.75, 127320.38, 249839.44, 'Florida'],\n",
       "       [91992.39, 135495.07, 252664.93, 'California'],\n",
       "       [119943.24, 156547.42, 256512.92, 'Florida'],\n",
       "       [114523.61, 122616.84, 261776.23, 'New York'],\n",
       "       [78013.11, 121597.55, 264346.06, 'California'],\n",
       "       [94657.16, 145077.58, 282574.31, 'New York'],\n",
       "       [91749.16, 114175.79, 294919.57, 'Florida'],\n",
       "       [86419.7, 153514.11, 0.0, 'New York'],\n",
       "       [76253.86, 113867.3, 298664.47, 'California'],\n",
       "       [78389.47, 153773.43, 299737.29, 'New York'],\n",
       "       [73994.56, 122782.75, 303319.26, 'Florida'],\n",
       "       [67532.53, 105751.03, 304768.73, 'Florida'],\n",
       "       [77044.01, 99281.34, 140574.81, 'New York'],\n",
       "       [64664.71, 139553.16, 137962.62, 'California'],\n",
       "       [75328.87, 144135.98, 134050.07, 'Florida'],\n",
       "       [72107.6, 127864.55, 353183.81, 'New York'],\n",
       "       [66051.52, 182645.56, 118148.2, 'Florida'],\n",
       "       [65605.48, 153032.06, 107138.38, 'New York'],\n",
       "       [61994.48, 115641.28, 91131.24, 'Florida'],\n",
       "       [61136.38, 152701.92, 88218.23, 'New York'],\n",
       "       [63408.86, 129219.61, 46085.25, 'California'],\n",
       "       [55493.95, 103057.49, 214634.81, 'Florida'],\n",
       "       [46426.07, 157693.92, 210797.67, 'California'],\n",
       "       [46014.02, 85047.44, 205517.64, 'New York'],\n",
       "       [28663.76, 127056.21, 201126.82, 'Florida'],\n",
       "       [44069.95, 51283.14, 197029.42, 'California'],\n",
       "       [20229.59, 65947.93, 185265.1, 'New York'],\n",
       "       [38558.51, 82982.09, 174999.3, 'California'],\n",
       "       [28754.33, 118546.05, 172795.67, 'California'],\n",
       "       [27892.92, 84710.77, 164470.71, 'Florida'],\n",
       "       [23640.93, 96189.63, 148001.11, 'California'],\n",
       "       [15505.73, 127382.3, 35534.17, 'New York'],\n",
       "       [22177.74, 154806.14, 28334.72, 'California'],\n",
       "       [1000.23, 124153.04, 1903.93, 'New York'],\n",
       "       [1315.46, 115816.21, 297114.46, 'Florida'],\n",
       "       [0.0, 135426.92, 0.0, 'California'],\n",
       "       [542.05, 51743.15, 0.0, 'New York'],\n",
       "       [0.0, 116983.8, 45173.06, 'California']], dtype=object)"
      ]
     },
     "execution_count": 4,
     "metadata": {},
     "output_type": "execute_result"
    }
   ],
   "source": [
    "X = dataset.iloc[:,:-1].values\n",
    "X"
   ]
  },
  {
   "cell_type": "code",
   "execution_count": 5,
   "metadata": {},
   "outputs": [
    {
     "data": {
      "text/plain": [
       "array([192261.83, 191792.06, 191050.39, 182901.99, 166187.94, 156991.12,\n",
       "       156122.51, 155752.6 , 152211.77, 149759.96, 146121.95, 144259.4 ,\n",
       "       141585.52, 134307.35, 132602.65, 129917.04, 126992.93, 125370.37,\n",
       "       124266.9 , 122776.86, 118474.03, 111313.02, 110352.25, 108733.99,\n",
       "       108552.04, 107404.34, 105733.54, 105008.31, 103282.38, 101004.64,\n",
       "        99937.59,  97483.56,  97427.84,  96778.92,  96712.8 ,  96479.51,\n",
       "        90708.19,  89949.14,  81229.06,  81005.76,  78239.91,  77798.83,\n",
       "        71498.49,  69758.98,  65200.33,  64926.08,  49490.75,  42559.73,\n",
       "        35673.41,  14681.4 ])"
      ]
     },
     "execution_count": 5,
     "metadata": {},
     "output_type": "execute_result"
    }
   ],
   "source": [
    "y = dataset.iloc[:,4].values\n",
    "y"
   ]
  },
  {
   "cell_type": "code",
   "execution_count": 6,
   "metadata": {},
   "outputs": [
    {
     "data": {
      "text/plain": [
       "array([[0.0, 0.0, 1.0, 165349.2, 136897.8, 471784.1],\n",
       "       [1.0, 0.0, 0.0, 162597.7, 151377.59, 443898.53],\n",
       "       [0.0, 1.0, 0.0, 153441.51, 101145.55, 407934.54],\n",
       "       [0.0, 0.0, 1.0, 144372.41, 118671.85, 383199.62],\n",
       "       [0.0, 1.0, 0.0, 142107.34, 91391.77, 366168.42],\n",
       "       [0.0, 0.0, 1.0, 131876.9, 99814.71, 362861.36],\n",
       "       [1.0, 0.0, 0.0, 134615.46, 147198.87, 127716.82],\n",
       "       [0.0, 1.0, 0.0, 130298.13, 145530.06, 323876.68],\n",
       "       [0.0, 0.0, 1.0, 120542.52, 148718.95, 311613.29],\n",
       "       [1.0, 0.0, 0.0, 123334.88, 108679.17, 304981.62],\n",
       "       [0.0, 1.0, 0.0, 101913.08, 110594.11, 229160.95],\n",
       "       [1.0, 0.0, 0.0, 100671.96, 91790.61, 249744.55],\n",
       "       [0.0, 1.0, 0.0, 93863.75, 127320.38, 249839.44],\n",
       "       [1.0, 0.0, 0.0, 91992.39, 135495.07, 252664.93],\n",
       "       [0.0, 1.0, 0.0, 119943.24, 156547.42, 256512.92],\n",
       "       [0.0, 0.0, 1.0, 114523.61, 122616.84, 261776.23],\n",
       "       [1.0, 0.0, 0.0, 78013.11, 121597.55, 264346.06],\n",
       "       [0.0, 0.0, 1.0, 94657.16, 145077.58, 282574.31],\n",
       "       [0.0, 1.0, 0.0, 91749.16, 114175.79, 294919.57],\n",
       "       [0.0, 0.0, 1.0, 86419.7, 153514.11, 0.0],\n",
       "       [1.0, 0.0, 0.0, 76253.86, 113867.3, 298664.47],\n",
       "       [0.0, 0.0, 1.0, 78389.47, 153773.43, 299737.29],\n",
       "       [0.0, 1.0, 0.0, 73994.56, 122782.75, 303319.26],\n",
       "       [0.0, 1.0, 0.0, 67532.53, 105751.03, 304768.73],\n",
       "       [0.0, 0.0, 1.0, 77044.01, 99281.34, 140574.81],\n",
       "       [1.0, 0.0, 0.0, 64664.71, 139553.16, 137962.62],\n",
       "       [0.0, 1.0, 0.0, 75328.87, 144135.98, 134050.07],\n",
       "       [0.0, 0.0, 1.0, 72107.6, 127864.55, 353183.81],\n",
       "       [0.0, 1.0, 0.0, 66051.52, 182645.56, 118148.2],\n",
       "       [0.0, 0.0, 1.0, 65605.48, 153032.06, 107138.38],\n",
       "       [0.0, 1.0, 0.0, 61994.48, 115641.28, 91131.24],\n",
       "       [0.0, 0.0, 1.0, 61136.38, 152701.92, 88218.23],\n",
       "       [1.0, 0.0, 0.0, 63408.86, 129219.61, 46085.25],\n",
       "       [0.0, 1.0, 0.0, 55493.95, 103057.49, 214634.81],\n",
       "       [1.0, 0.0, 0.0, 46426.07, 157693.92, 210797.67],\n",
       "       [0.0, 0.0, 1.0, 46014.02, 85047.44, 205517.64],\n",
       "       [0.0, 1.0, 0.0, 28663.76, 127056.21, 201126.82],\n",
       "       [1.0, 0.0, 0.0, 44069.95, 51283.14, 197029.42],\n",
       "       [0.0, 0.0, 1.0, 20229.59, 65947.93, 185265.1],\n",
       "       [1.0, 0.0, 0.0, 38558.51, 82982.09, 174999.3],\n",
       "       [1.0, 0.0, 0.0, 28754.33, 118546.05, 172795.67],\n",
       "       [0.0, 1.0, 0.0, 27892.92, 84710.77, 164470.71],\n",
       "       [1.0, 0.0, 0.0, 23640.93, 96189.63, 148001.11],\n",
       "       [0.0, 0.0, 1.0, 15505.73, 127382.3, 35534.17],\n",
       "       [1.0, 0.0, 0.0, 22177.74, 154806.14, 28334.72],\n",
       "       [0.0, 0.0, 1.0, 1000.23, 124153.04, 1903.93],\n",
       "       [0.0, 1.0, 0.0, 1315.46, 115816.21, 297114.46],\n",
       "       [1.0, 0.0, 0.0, 0.0, 135426.92, 0.0],\n",
       "       [0.0, 0.0, 1.0, 542.05, 51743.15, 0.0],\n",
       "       [1.0, 0.0, 0.0, 0.0, 116983.8, 45173.06]], dtype=object)"
      ]
     },
     "execution_count": 6,
     "metadata": {},
     "output_type": "execute_result"
    }
   ],
   "source": [
    "from sklearn.preprocessing import LabelEncoder, OneHotEncoder\n",
    "from sklearn.compose import ColumnTransformer\n",
    "\n",
    "X_label = LabelEncoder()\n",
    "X[:,3] = X_label.fit_transform(X[:,3])\n",
    "onehotencoder = ColumnTransformer(transformers=[('State',OneHotEncoder(),[3])],remainder='passthrough') #write the column\n",
    "X = onehotencoder.fit_transform(X)\n",
    "X\n"
   ]
  },
  {
   "cell_type": "code",
   "execution_count": 7,
   "metadata": {},
   "outputs": [],
   "source": [
    "from sklearn.model_selection import train_test_split\n",
    "X_train,X_test,Y_train,Y_test = train_test_split(X,y,test_size = 0.2, random_state=0)"
   ]
  },
  {
   "cell_type": "code",
   "execution_count": 8,
   "metadata": {},
   "outputs": [
    {
     "data": {
      "text/html": [
       "<style>#sk-container-id-1 {color: black;background-color: white;}#sk-container-id-1 pre{padding: 0;}#sk-container-id-1 div.sk-toggleable {background-color: white;}#sk-container-id-1 label.sk-toggleable__label {cursor: pointer;display: block;width: 100%;margin-bottom: 0;padding: 0.3em;box-sizing: border-box;text-align: center;}#sk-container-id-1 label.sk-toggleable__label-arrow:before {content: \"▸\";float: left;margin-right: 0.25em;color: #696969;}#sk-container-id-1 label.sk-toggleable__label-arrow:hover:before {color: black;}#sk-container-id-1 div.sk-estimator:hover label.sk-toggleable__label-arrow:before {color: black;}#sk-container-id-1 div.sk-toggleable__content {max-height: 0;max-width: 0;overflow: hidden;text-align: left;background-color: #f0f8ff;}#sk-container-id-1 div.sk-toggleable__content pre {margin: 0.2em;color: black;border-radius: 0.25em;background-color: #f0f8ff;}#sk-container-id-1 input.sk-toggleable__control:checked~div.sk-toggleable__content {max-height: 200px;max-width: 100%;overflow: auto;}#sk-container-id-1 input.sk-toggleable__control:checked~label.sk-toggleable__label-arrow:before {content: \"▾\";}#sk-container-id-1 div.sk-estimator input.sk-toggleable__control:checked~label.sk-toggleable__label {background-color: #d4ebff;}#sk-container-id-1 div.sk-label input.sk-toggleable__control:checked~label.sk-toggleable__label {background-color: #d4ebff;}#sk-container-id-1 input.sk-hidden--visually {border: 0;clip: rect(1px 1px 1px 1px);clip: rect(1px, 1px, 1px, 1px);height: 1px;margin: -1px;overflow: hidden;padding: 0;position: absolute;width: 1px;}#sk-container-id-1 div.sk-estimator {font-family: monospace;background-color: #f0f8ff;border: 1px dotted black;border-radius: 0.25em;box-sizing: border-box;margin-bottom: 0.5em;}#sk-container-id-1 div.sk-estimator:hover {background-color: #d4ebff;}#sk-container-id-1 div.sk-parallel-item::after {content: \"\";width: 100%;border-bottom: 1px solid gray;flex-grow: 1;}#sk-container-id-1 div.sk-label:hover label.sk-toggleable__label {background-color: #d4ebff;}#sk-container-id-1 div.sk-serial::before {content: \"\";position: absolute;border-left: 1px solid gray;box-sizing: border-box;top: 0;bottom: 0;left: 50%;z-index: 0;}#sk-container-id-1 div.sk-serial {display: flex;flex-direction: column;align-items: center;background-color: white;padding-right: 0.2em;padding-left: 0.2em;position: relative;}#sk-container-id-1 div.sk-item {position: relative;z-index: 1;}#sk-container-id-1 div.sk-parallel {display: flex;align-items: stretch;justify-content: center;background-color: white;position: relative;}#sk-container-id-1 div.sk-item::before, #sk-container-id-1 div.sk-parallel-item::before {content: \"\";position: absolute;border-left: 1px solid gray;box-sizing: border-box;top: 0;bottom: 0;left: 50%;z-index: -1;}#sk-container-id-1 div.sk-parallel-item {display: flex;flex-direction: column;z-index: 1;position: relative;background-color: white;}#sk-container-id-1 div.sk-parallel-item:first-child::after {align-self: flex-end;width: 50%;}#sk-container-id-1 div.sk-parallel-item:last-child::after {align-self: flex-start;width: 50%;}#sk-container-id-1 div.sk-parallel-item:only-child::after {width: 0;}#sk-container-id-1 div.sk-dashed-wrapped {border: 1px dashed gray;margin: 0 0.4em 0.5em 0.4em;box-sizing: border-box;padding-bottom: 0.4em;background-color: white;}#sk-container-id-1 div.sk-label label {font-family: monospace;font-weight: bold;display: inline-block;line-height: 1.2em;}#sk-container-id-1 div.sk-label-container {text-align: center;}#sk-container-id-1 div.sk-container {/* jupyter's `normalize.less` sets `[hidden] { display: none; }` but bootstrap.min.css set `[hidden] { display: none !important; }` so we also need the `!important` here to be able to override the default hidden behavior on the sphinx rendered scikit-learn.org. See: https://github.com/scikit-learn/scikit-learn/issues/21755 */display: inline-block !important;position: relative;}#sk-container-id-1 div.sk-text-repr-fallback {display: none;}</style><div id=\"sk-container-id-1\" class=\"sk-top-container\"><div class=\"sk-text-repr-fallback\"><pre>LinearRegression()</pre><b>In a Jupyter environment, please rerun this cell to show the HTML representation or trust the notebook. <br />On GitHub, the HTML representation is unable to render, please try loading this page with nbviewer.org.</b></div><div class=\"sk-container\" hidden><div class=\"sk-item\"><div class=\"sk-estimator sk-toggleable\"><input class=\"sk-toggleable__control sk-hidden--visually\" id=\"sk-estimator-id-1\" type=\"checkbox\" checked><label for=\"sk-estimator-id-1\" class=\"sk-toggleable__label sk-toggleable__label-arrow\">LinearRegression</label><div class=\"sk-toggleable__content\"><pre>LinearRegression()</pre></div></div></div></div></div>"
      ],
      "text/plain": [
       "LinearRegression()"
      ]
     },
     "execution_count": 8,
     "metadata": {},
     "output_type": "execute_result"
    }
   ],
   "source": [
    "from sklearn.linear_model import LinearRegression\n",
    "regression = LinearRegression()\n",
    "regression.fit(X_train,Y_train)"
   ]
  },
  {
   "cell_type": "code",
   "execution_count": 9,
   "metadata": {},
   "outputs": [],
   "source": [
    "y_pred = regression.predict(X_test)"
   ]
  },
  {
   "cell_type": "code",
   "execution_count": 10,
   "metadata": {},
   "outputs": [
    {
     "data": {
      "text/plain": [
       "array([103015.20159795, 132582.27760816, 132447.73845175,  71976.09851258,\n",
       "       178537.48221057, 116161.24230167,  67851.69209676,  98791.73374687,\n",
       "       113969.43533014, 167921.06569552])"
      ]
     },
     "execution_count": 10,
     "metadata": {},
     "output_type": "execute_result"
    }
   ],
   "source": [
    "y_pred"
   ]
  },
  {
   "cell_type": "code",
   "execution_count": 11,
   "metadata": {},
   "outputs": [
    {
     "data": {
      "text/plain": [
       "array([103282.38, 144259.4 , 146121.95,  77798.83, 191050.39, 105008.31,\n",
       "        81229.06,  97483.56, 110352.25, 166187.94])"
      ]
     },
     "execution_count": 11,
     "metadata": {},
     "output_type": "execute_result"
    }
   ],
   "source": [
    "Y_test"
   ]
  },
  {
   "cell_type": "code",
   "execution_count": 12,
   "metadata": {},
   "outputs": [],
   "source": [
    "#!pip install statsmodels "
   ]
  },
  {
   "cell_type": "code",
   "execution_count": 13,
   "metadata": {},
   "outputs": [],
   "source": [
    "import statsmodels.api as sm\n",
    "X = np.append(arr = np.ones((50,1)).astype(int),values=X,axis=1)"
   ]
  },
  {
   "cell_type": "code",
   "execution_count": 14,
   "metadata": {},
   "outputs": [
    {
     "data": {
      "text/plain": [
       "array([[1, 0.0, 0.0, 1.0, 165349.2, 136897.8, 471784.1],\n",
       "       [1, 1.0, 0.0, 0.0, 162597.7, 151377.59, 443898.53],\n",
       "       [1, 0.0, 1.0, 0.0, 153441.51, 101145.55, 407934.54],\n",
       "       [1, 0.0, 0.0, 1.0, 144372.41, 118671.85, 383199.62],\n",
       "       [1, 0.0, 1.0, 0.0, 142107.34, 91391.77, 366168.42],\n",
       "       [1, 0.0, 0.0, 1.0, 131876.9, 99814.71, 362861.36],\n",
       "       [1, 1.0, 0.0, 0.0, 134615.46, 147198.87, 127716.82],\n",
       "       [1, 0.0, 1.0, 0.0, 130298.13, 145530.06, 323876.68],\n",
       "       [1, 0.0, 0.0, 1.0, 120542.52, 148718.95, 311613.29],\n",
       "       [1, 1.0, 0.0, 0.0, 123334.88, 108679.17, 304981.62],\n",
       "       [1, 0.0, 1.0, 0.0, 101913.08, 110594.11, 229160.95],\n",
       "       [1, 1.0, 0.0, 0.0, 100671.96, 91790.61, 249744.55],\n",
       "       [1, 0.0, 1.0, 0.0, 93863.75, 127320.38, 249839.44],\n",
       "       [1, 1.0, 0.0, 0.0, 91992.39, 135495.07, 252664.93],\n",
       "       [1, 0.0, 1.0, 0.0, 119943.24, 156547.42, 256512.92],\n",
       "       [1, 0.0, 0.0, 1.0, 114523.61, 122616.84, 261776.23],\n",
       "       [1, 1.0, 0.0, 0.0, 78013.11, 121597.55, 264346.06],\n",
       "       [1, 0.0, 0.0, 1.0, 94657.16, 145077.58, 282574.31],\n",
       "       [1, 0.0, 1.0, 0.0, 91749.16, 114175.79, 294919.57],\n",
       "       [1, 0.0, 0.0, 1.0, 86419.7, 153514.11, 0.0],\n",
       "       [1, 1.0, 0.0, 0.0, 76253.86, 113867.3, 298664.47],\n",
       "       [1, 0.0, 0.0, 1.0, 78389.47, 153773.43, 299737.29],\n",
       "       [1, 0.0, 1.0, 0.0, 73994.56, 122782.75, 303319.26],\n",
       "       [1, 0.0, 1.0, 0.0, 67532.53, 105751.03, 304768.73],\n",
       "       [1, 0.0, 0.0, 1.0, 77044.01, 99281.34, 140574.81],\n",
       "       [1, 1.0, 0.0, 0.0, 64664.71, 139553.16, 137962.62],\n",
       "       [1, 0.0, 1.0, 0.0, 75328.87, 144135.98, 134050.07],\n",
       "       [1, 0.0, 0.0, 1.0, 72107.6, 127864.55, 353183.81],\n",
       "       [1, 0.0, 1.0, 0.0, 66051.52, 182645.56, 118148.2],\n",
       "       [1, 0.0, 0.0, 1.0, 65605.48, 153032.06, 107138.38],\n",
       "       [1, 0.0, 1.0, 0.0, 61994.48, 115641.28, 91131.24],\n",
       "       [1, 0.0, 0.0, 1.0, 61136.38, 152701.92, 88218.23],\n",
       "       [1, 1.0, 0.0, 0.0, 63408.86, 129219.61, 46085.25],\n",
       "       [1, 0.0, 1.0, 0.0, 55493.95, 103057.49, 214634.81],\n",
       "       [1, 1.0, 0.0, 0.0, 46426.07, 157693.92, 210797.67],\n",
       "       [1, 0.0, 0.0, 1.0, 46014.02, 85047.44, 205517.64],\n",
       "       [1, 0.0, 1.0, 0.0, 28663.76, 127056.21, 201126.82],\n",
       "       [1, 1.0, 0.0, 0.0, 44069.95, 51283.14, 197029.42],\n",
       "       [1, 0.0, 0.0, 1.0, 20229.59, 65947.93, 185265.1],\n",
       "       [1, 1.0, 0.0, 0.0, 38558.51, 82982.09, 174999.3],\n",
       "       [1, 1.0, 0.0, 0.0, 28754.33, 118546.05, 172795.67],\n",
       "       [1, 0.0, 1.0, 0.0, 27892.92, 84710.77, 164470.71],\n",
       "       [1, 1.0, 0.0, 0.0, 23640.93, 96189.63, 148001.11],\n",
       "       [1, 0.0, 0.0, 1.0, 15505.73, 127382.3, 35534.17],\n",
       "       [1, 1.0, 0.0, 0.0, 22177.74, 154806.14, 28334.72],\n",
       "       [1, 0.0, 0.0, 1.0, 1000.23, 124153.04, 1903.93],\n",
       "       [1, 0.0, 1.0, 0.0, 1315.46, 115816.21, 297114.46],\n",
       "       [1, 1.0, 0.0, 0.0, 0.0, 135426.92, 0.0],\n",
       "       [1, 0.0, 0.0, 1.0, 542.05, 51743.15, 0.0],\n",
       "       [1, 1.0, 0.0, 0.0, 0.0, 116983.8, 45173.06]], dtype=object)"
      ]
     },
     "execution_count": 14,
     "metadata": {},
     "output_type": "execute_result"
    }
   ],
   "source": [
    "X"
   ]
  },
  {
   "cell_type": "code",
   "execution_count": 15,
   "metadata": {},
   "outputs": [
    {
     "data": {
      "text/plain": [
       "array([[1, 0.0, 0.0, 165349.2, 136897.8, 471784.1],\n",
       "       [1, 1.0, 0.0, 162597.7, 151377.59, 443898.53],\n",
       "       [1, 0.0, 1.0, 153441.51, 101145.55, 407934.54],\n",
       "       [1, 0.0, 0.0, 144372.41, 118671.85, 383199.62],\n",
       "       [1, 0.0, 1.0, 142107.34, 91391.77, 366168.42],\n",
       "       [1, 0.0, 0.0, 131876.9, 99814.71, 362861.36],\n",
       "       [1, 1.0, 0.0, 134615.46, 147198.87, 127716.82],\n",
       "       [1, 0.0, 1.0, 130298.13, 145530.06, 323876.68],\n",
       "       [1, 0.0, 0.0, 120542.52, 148718.95, 311613.29],\n",
       "       [1, 1.0, 0.0, 123334.88, 108679.17, 304981.62],\n",
       "       [1, 0.0, 1.0, 101913.08, 110594.11, 229160.95],\n",
       "       [1, 1.0, 0.0, 100671.96, 91790.61, 249744.55],\n",
       "       [1, 0.0, 1.0, 93863.75, 127320.38, 249839.44],\n",
       "       [1, 1.0, 0.0, 91992.39, 135495.07, 252664.93],\n",
       "       [1, 0.0, 1.0, 119943.24, 156547.42, 256512.92],\n",
       "       [1, 0.0, 0.0, 114523.61, 122616.84, 261776.23],\n",
       "       [1, 1.0, 0.0, 78013.11, 121597.55, 264346.06],\n",
       "       [1, 0.0, 0.0, 94657.16, 145077.58, 282574.31],\n",
       "       [1, 0.0, 1.0, 91749.16, 114175.79, 294919.57],\n",
       "       [1, 0.0, 0.0, 86419.7, 153514.11, 0.0],\n",
       "       [1, 1.0, 0.0, 76253.86, 113867.3, 298664.47],\n",
       "       [1, 0.0, 0.0, 78389.47, 153773.43, 299737.29],\n",
       "       [1, 0.0, 1.0, 73994.56, 122782.75, 303319.26],\n",
       "       [1, 0.0, 1.0, 67532.53, 105751.03, 304768.73],\n",
       "       [1, 0.0, 0.0, 77044.01, 99281.34, 140574.81],\n",
       "       [1, 1.0, 0.0, 64664.71, 139553.16, 137962.62],\n",
       "       [1, 0.0, 1.0, 75328.87, 144135.98, 134050.07],\n",
       "       [1, 0.0, 0.0, 72107.6, 127864.55, 353183.81],\n",
       "       [1, 0.0, 1.0, 66051.52, 182645.56, 118148.2],\n",
       "       [1, 0.0, 0.0, 65605.48, 153032.06, 107138.38],\n",
       "       [1, 0.0, 1.0, 61994.48, 115641.28, 91131.24],\n",
       "       [1, 0.0, 0.0, 61136.38, 152701.92, 88218.23],\n",
       "       [1, 1.0, 0.0, 63408.86, 129219.61, 46085.25],\n",
       "       [1, 0.0, 1.0, 55493.95, 103057.49, 214634.81],\n",
       "       [1, 1.0, 0.0, 46426.07, 157693.92, 210797.67],\n",
       "       [1, 0.0, 0.0, 46014.02, 85047.44, 205517.64],\n",
       "       [1, 0.0, 1.0, 28663.76, 127056.21, 201126.82],\n",
       "       [1, 1.0, 0.0, 44069.95, 51283.14, 197029.42],\n",
       "       [1, 0.0, 0.0, 20229.59, 65947.93, 185265.1],\n",
       "       [1, 1.0, 0.0, 38558.51, 82982.09, 174999.3],\n",
       "       [1, 1.0, 0.0, 28754.33, 118546.05, 172795.67],\n",
       "       [1, 0.0, 1.0, 27892.92, 84710.77, 164470.71],\n",
       "       [1, 1.0, 0.0, 23640.93, 96189.63, 148001.11],\n",
       "       [1, 0.0, 0.0, 15505.73, 127382.3, 35534.17],\n",
       "       [1, 1.0, 0.0, 22177.74, 154806.14, 28334.72],\n",
       "       [1, 0.0, 0.0, 1000.23, 124153.04, 1903.93],\n",
       "       [1, 0.0, 1.0, 1315.46, 115816.21, 297114.46],\n",
       "       [1, 1.0, 0.0, 0.0, 135426.92, 0.0],\n",
       "       [1, 0.0, 0.0, 542.05, 51743.15, 0.0],\n",
       "       [1, 1.0, 0.0, 0.0, 116983.8, 45173.06]], dtype=object)"
      ]
     },
     "execution_count": 15,
     "metadata": {},
     "output_type": "execute_result"
    }
   ],
   "source": [
    "X_opt = X[:,[0,1,2,4,5,6]]\n",
    "X_opt\n"
   ]
  },
  {
   "cell_type": "code",
   "execution_count": 16,
   "metadata": {},
   "outputs": [
    {
     "name": "stdout",
     "output_type": "stream",
     "text": [
      "                            OLS Regression Results                            \n",
      "==============================================================================\n",
      "Dep. Variable:                      y   R-squared:                       0.951\n",
      "Model:                            OLS   Adj. R-squared:                  0.945\n",
      "Method:                 Least Squares   F-statistic:                     169.9\n",
      "Date:                Mon, 30 Jan 2023   Prob (F-statistic):           1.34e-27\n",
      "Time:                        15:23:33   Log-Likelihood:                -525.38\n",
      "No. Observations:                  50   AIC:                             1063.\n",
      "Df Residuals:                      44   BIC:                             1074.\n",
      "Df Model:                           5                                         \n",
      "Covariance Type:            nonrobust                                         \n",
      "==============================================================================\n",
      "                 coef    std err          t      P>|t|      [0.025      0.975]\n",
      "------------------------------------------------------------------------------\n",
      "const       5.008e+04   6952.587      7.204      0.000    3.61e+04    6.41e+04\n",
      "x1            41.8870   3256.039      0.013      0.990   -6520.229    6604.003\n",
      "x2           240.6758   3338.857      0.072      0.943   -6488.349    6969.701\n",
      "x3             0.8060      0.046     17.369      0.000       0.712       0.900\n",
      "x4            -0.0270      0.052     -0.517      0.608      -0.132       0.078\n",
      "x5             0.0270      0.017      1.574      0.123      -0.008       0.062\n",
      "==============================================================================\n",
      "Omnibus:                       14.782   Durbin-Watson:                   1.283\n",
      "Prob(Omnibus):                  0.001   Jarque-Bera (JB):               21.266\n",
      "Skew:                          -0.948   Prob(JB):                     2.41e-05\n",
      "Kurtosis:                       5.572   Cond. No.                     1.47e+06\n",
      "==============================================================================\n",
      "\n",
      "Notes:\n",
      "[1] Standard Errors assume that the covariance matrix of the errors is correctly specified.\n",
      "[2] The condition number is large, 1.47e+06. This might indicate that there are\n",
      "strong multicollinearity or other numerical problems.\n"
     ]
    }
   ],
   "source": [
    "X_opt = np.array(X_opt, dtype=float)\n",
    "regression_ols = sm.OLS(endog=y,exog=X_opt).fit()\n",
    "print(regression_ols.summary())"
   ]
  },
  {
   "cell_type": "code",
   "execution_count": 17,
   "metadata": {},
   "outputs": [
    {
     "data": {
      "text/plain": [
       "array([[1, 0.0, 165349.2, 136897.8, 471784.1],\n",
       "       [1, 0.0, 162597.7, 151377.59, 443898.53],\n",
       "       [1, 1.0, 153441.51, 101145.55, 407934.54],\n",
       "       [1, 0.0, 144372.41, 118671.85, 383199.62],\n",
       "       [1, 1.0, 142107.34, 91391.77, 366168.42],\n",
       "       [1, 0.0, 131876.9, 99814.71, 362861.36],\n",
       "       [1, 0.0, 134615.46, 147198.87, 127716.82],\n",
       "       [1, 1.0, 130298.13, 145530.06, 323876.68],\n",
       "       [1, 0.0, 120542.52, 148718.95, 311613.29],\n",
       "       [1, 0.0, 123334.88, 108679.17, 304981.62],\n",
       "       [1, 1.0, 101913.08, 110594.11, 229160.95],\n",
       "       [1, 0.0, 100671.96, 91790.61, 249744.55],\n",
       "       [1, 1.0, 93863.75, 127320.38, 249839.44],\n",
       "       [1, 0.0, 91992.39, 135495.07, 252664.93],\n",
       "       [1, 1.0, 119943.24, 156547.42, 256512.92],\n",
       "       [1, 0.0, 114523.61, 122616.84, 261776.23],\n",
       "       [1, 0.0, 78013.11, 121597.55, 264346.06],\n",
       "       [1, 0.0, 94657.16, 145077.58, 282574.31],\n",
       "       [1, 1.0, 91749.16, 114175.79, 294919.57],\n",
       "       [1, 0.0, 86419.7, 153514.11, 0.0],\n",
       "       [1, 0.0, 76253.86, 113867.3, 298664.47],\n",
       "       [1, 0.0, 78389.47, 153773.43, 299737.29],\n",
       "       [1, 1.0, 73994.56, 122782.75, 303319.26],\n",
       "       [1, 1.0, 67532.53, 105751.03, 304768.73],\n",
       "       [1, 0.0, 77044.01, 99281.34, 140574.81],\n",
       "       [1, 0.0, 64664.71, 139553.16, 137962.62],\n",
       "       [1, 1.0, 75328.87, 144135.98, 134050.07],\n",
       "       [1, 0.0, 72107.6, 127864.55, 353183.81],\n",
       "       [1, 1.0, 66051.52, 182645.56, 118148.2],\n",
       "       [1, 0.0, 65605.48, 153032.06, 107138.38],\n",
       "       [1, 1.0, 61994.48, 115641.28, 91131.24],\n",
       "       [1, 0.0, 61136.38, 152701.92, 88218.23],\n",
       "       [1, 0.0, 63408.86, 129219.61, 46085.25],\n",
       "       [1, 1.0, 55493.95, 103057.49, 214634.81],\n",
       "       [1, 0.0, 46426.07, 157693.92, 210797.67],\n",
       "       [1, 0.0, 46014.02, 85047.44, 205517.64],\n",
       "       [1, 1.0, 28663.76, 127056.21, 201126.82],\n",
       "       [1, 0.0, 44069.95, 51283.14, 197029.42],\n",
       "       [1, 0.0, 20229.59, 65947.93, 185265.1],\n",
       "       [1, 0.0, 38558.51, 82982.09, 174999.3],\n",
       "       [1, 0.0, 28754.33, 118546.05, 172795.67],\n",
       "       [1, 1.0, 27892.92, 84710.77, 164470.71],\n",
       "       [1, 0.0, 23640.93, 96189.63, 148001.11],\n",
       "       [1, 0.0, 15505.73, 127382.3, 35534.17],\n",
       "       [1, 0.0, 22177.74, 154806.14, 28334.72],\n",
       "       [1, 0.0, 1000.23, 124153.04, 1903.93],\n",
       "       [1, 1.0, 1315.46, 115816.21, 297114.46],\n",
       "       [1, 0.0, 0.0, 135426.92, 0.0],\n",
       "       [1, 0.0, 542.05, 51743.15, 0.0],\n",
       "       [1, 0.0, 0.0, 116983.8, 45173.06]], dtype=object)"
      ]
     },
     "execution_count": 17,
     "metadata": {},
     "output_type": "execute_result"
    }
   ],
   "source": [
    "X_opt = X[:,[0,2,4,5,6]]\n",
    "X_opt"
   ]
  },
  {
   "cell_type": "code",
   "execution_count": 18,
   "metadata": {},
   "outputs": [
    {
     "name": "stdout",
     "output_type": "stream",
     "text": [
      "                            OLS Regression Results                            \n",
      "==============================================================================\n",
      "Dep. Variable:                      y   R-squared:                       0.951\n",
      "Model:                            OLS   Adj. R-squared:                  0.946\n",
      "Method:                 Least Squares   F-statistic:                     217.2\n",
      "Date:                Mon, 30 Jan 2023   Prob (F-statistic):           8.49e-29\n",
      "Time:                        15:32:09   Log-Likelihood:                -525.38\n",
      "No. Observations:                  50   AIC:                             1061.\n",
      "Df Residuals:                      45   BIC:                             1070.\n",
      "Df Model:                           4                                         \n",
      "Covariance Type:            nonrobust                                         \n",
      "==============================================================================\n",
      "                 coef    std err          t      P>|t|      [0.025      0.975]\n",
      "------------------------------------------------------------------------------\n",
      "const       5.011e+04   6647.870      7.537      0.000    3.67e+04    6.35e+04\n",
      "x1           220.1585   2900.536      0.076      0.940   -5621.821    6062.138\n",
      "x2             0.8060      0.046     17.606      0.000       0.714       0.898\n",
      "x3            -0.0270      0.052     -0.523      0.604      -0.131       0.077\n",
      "x4             0.0270      0.017      1.592      0.118      -0.007       0.061\n",
      "==============================================================================\n",
      "Omnibus:                       14.758   Durbin-Watson:                   1.282\n",
      "Prob(Omnibus):                  0.001   Jarque-Bera (JB):               21.172\n",
      "Skew:                          -0.948   Prob(JB):                     2.53e-05\n",
      "Kurtosis:                       5.563   Cond. No.                     1.40e+06\n",
      "==============================================================================\n",
      "\n",
      "Notes:\n",
      "[1] Standard Errors assume that the covariance matrix of the errors is correctly specified.\n",
      "[2] The condition number is large, 1.4e+06. This might indicate that there are\n",
      "strong multicollinearity or other numerical problems.\n"
     ]
    }
   ],
   "source": [
    "X_opt = np.array(X_opt, dtype=float)\n",
    "regression_ols = sm.OLS(endog=y,exog=X_opt).fit()\n",
    "print(regression_ols.summary())"
   ]
  },
  {
   "cell_type": "code",
   "execution_count": 20,
   "metadata": {},
   "outputs": [
    {
     "data": {
      "text/plain": [
       "array([[1, 165349.2, 136897.8, 471784.1],\n",
       "       [1, 162597.7, 151377.59, 443898.53],\n",
       "       [1, 153441.51, 101145.55, 407934.54],\n",
       "       [1, 144372.41, 118671.85, 383199.62],\n",
       "       [1, 142107.34, 91391.77, 366168.42],\n",
       "       [1, 131876.9, 99814.71, 362861.36],\n",
       "       [1, 134615.46, 147198.87, 127716.82],\n",
       "       [1, 130298.13, 145530.06, 323876.68],\n",
       "       [1, 120542.52, 148718.95, 311613.29],\n",
       "       [1, 123334.88, 108679.17, 304981.62],\n",
       "       [1, 101913.08, 110594.11, 229160.95],\n",
       "       [1, 100671.96, 91790.61, 249744.55],\n",
       "       [1, 93863.75, 127320.38, 249839.44],\n",
       "       [1, 91992.39, 135495.07, 252664.93],\n",
       "       [1, 119943.24, 156547.42, 256512.92],\n",
       "       [1, 114523.61, 122616.84, 261776.23],\n",
       "       [1, 78013.11, 121597.55, 264346.06],\n",
       "       [1, 94657.16, 145077.58, 282574.31],\n",
       "       [1, 91749.16, 114175.79, 294919.57],\n",
       "       [1, 86419.7, 153514.11, 0.0],\n",
       "       [1, 76253.86, 113867.3, 298664.47],\n",
       "       [1, 78389.47, 153773.43, 299737.29],\n",
       "       [1, 73994.56, 122782.75, 303319.26],\n",
       "       [1, 67532.53, 105751.03, 304768.73],\n",
       "       [1, 77044.01, 99281.34, 140574.81],\n",
       "       [1, 64664.71, 139553.16, 137962.62],\n",
       "       [1, 75328.87, 144135.98, 134050.07],\n",
       "       [1, 72107.6, 127864.55, 353183.81],\n",
       "       [1, 66051.52, 182645.56, 118148.2],\n",
       "       [1, 65605.48, 153032.06, 107138.38],\n",
       "       [1, 61994.48, 115641.28, 91131.24],\n",
       "       [1, 61136.38, 152701.92, 88218.23],\n",
       "       [1, 63408.86, 129219.61, 46085.25],\n",
       "       [1, 55493.95, 103057.49, 214634.81],\n",
       "       [1, 46426.07, 157693.92, 210797.67],\n",
       "       [1, 46014.02, 85047.44, 205517.64],\n",
       "       [1, 28663.76, 127056.21, 201126.82],\n",
       "       [1, 44069.95, 51283.14, 197029.42],\n",
       "       [1, 20229.59, 65947.93, 185265.1],\n",
       "       [1, 38558.51, 82982.09, 174999.3],\n",
       "       [1, 28754.33, 118546.05, 172795.67],\n",
       "       [1, 27892.92, 84710.77, 164470.71],\n",
       "       [1, 23640.93, 96189.63, 148001.11],\n",
       "       [1, 15505.73, 127382.3, 35534.17],\n",
       "       [1, 22177.74, 154806.14, 28334.72],\n",
       "       [1, 1000.23, 124153.04, 1903.93],\n",
       "       [1, 1315.46, 115816.21, 297114.46],\n",
       "       [1, 0.0, 135426.92, 0.0],\n",
       "       [1, 542.05, 51743.15, 0.0],\n",
       "       [1, 0.0, 116983.8, 45173.06]], dtype=object)"
      ]
     },
     "execution_count": 20,
     "metadata": {},
     "output_type": "execute_result"
    }
   ],
   "source": [
    "X_opt = X[:,[0,4,5,6]]\n",
    "X_opt"
   ]
  },
  {
   "cell_type": "code",
   "execution_count": 21,
   "metadata": {},
   "outputs": [
    {
     "name": "stdout",
     "output_type": "stream",
     "text": [
      "                            OLS Regression Results                            \n",
      "==============================================================================\n",
      "Dep. Variable:                      y   R-squared:                       0.951\n",
      "Model:                            OLS   Adj. R-squared:                  0.948\n",
      "Method:                 Least Squares   F-statistic:                     296.0\n",
      "Date:                Mon, 30 Jan 2023   Prob (F-statistic):           4.53e-30\n",
      "Time:                        15:40:06   Log-Likelihood:                -525.39\n",
      "No. Observations:                  50   AIC:                             1059.\n",
      "Df Residuals:                      46   BIC:                             1066.\n",
      "Df Model:                           3                                         \n",
      "Covariance Type:            nonrobust                                         \n",
      "==============================================================================\n",
      "                 coef    std err          t      P>|t|      [0.025      0.975]\n",
      "------------------------------------------------------------------------------\n",
      "const       5.012e+04   6572.353      7.626      0.000    3.69e+04    6.34e+04\n",
      "x1             0.8057      0.045     17.846      0.000       0.715       0.897\n",
      "x2            -0.0268      0.051     -0.526      0.602      -0.130       0.076\n",
      "x3             0.0272      0.016      1.655      0.105      -0.006       0.060\n",
      "==============================================================================\n",
      "Omnibus:                       14.838   Durbin-Watson:                   1.282\n",
      "Prob(Omnibus):                  0.001   Jarque-Bera (JB):               21.442\n",
      "Skew:                          -0.949   Prob(JB):                     2.21e-05\n",
      "Kurtosis:                       5.586   Cond. No.                     1.40e+06\n",
      "==============================================================================\n",
      "\n",
      "Notes:\n",
      "[1] Standard Errors assume that the covariance matrix of the errors is correctly specified.\n",
      "[2] The condition number is large, 1.4e+06. This might indicate that there are\n",
      "strong multicollinearity or other numerical problems.\n"
     ]
    }
   ],
   "source": [
    "X_opt = np.array(X_opt, dtype=float)\n",
    "regression_ols = sm.OLS(endog=y,exog=X_opt).fit()\n",
    "print(regression_ols.summary())"
   ]
  },
  {
   "cell_type": "code",
   "execution_count": 22,
   "metadata": {},
   "outputs": [
    {
     "data": {
      "text/plain": [
       "array([[1, 165349.2, 471784.1],\n",
       "       [1, 162597.7, 443898.53],\n",
       "       [1, 153441.51, 407934.54],\n",
       "       [1, 144372.41, 383199.62],\n",
       "       [1, 142107.34, 366168.42],\n",
       "       [1, 131876.9, 362861.36],\n",
       "       [1, 134615.46, 127716.82],\n",
       "       [1, 130298.13, 323876.68],\n",
       "       [1, 120542.52, 311613.29],\n",
       "       [1, 123334.88, 304981.62],\n",
       "       [1, 101913.08, 229160.95],\n",
       "       [1, 100671.96, 249744.55],\n",
       "       [1, 93863.75, 249839.44],\n",
       "       [1, 91992.39, 252664.93],\n",
       "       [1, 119943.24, 256512.92],\n",
       "       [1, 114523.61, 261776.23],\n",
       "       [1, 78013.11, 264346.06],\n",
       "       [1, 94657.16, 282574.31],\n",
       "       [1, 91749.16, 294919.57],\n",
       "       [1, 86419.7, 0.0],\n",
       "       [1, 76253.86, 298664.47],\n",
       "       [1, 78389.47, 299737.29],\n",
       "       [1, 73994.56, 303319.26],\n",
       "       [1, 67532.53, 304768.73],\n",
       "       [1, 77044.01, 140574.81],\n",
       "       [1, 64664.71, 137962.62],\n",
       "       [1, 75328.87, 134050.07],\n",
       "       [1, 72107.6, 353183.81],\n",
       "       [1, 66051.52, 118148.2],\n",
       "       [1, 65605.48, 107138.38],\n",
       "       [1, 61994.48, 91131.24],\n",
       "       [1, 61136.38, 88218.23],\n",
       "       [1, 63408.86, 46085.25],\n",
       "       [1, 55493.95, 214634.81],\n",
       "       [1, 46426.07, 210797.67],\n",
       "       [1, 46014.02, 205517.64],\n",
       "       [1, 28663.76, 201126.82],\n",
       "       [1, 44069.95, 197029.42],\n",
       "       [1, 20229.59, 185265.1],\n",
       "       [1, 38558.51, 174999.3],\n",
       "       [1, 28754.33, 172795.67],\n",
       "       [1, 27892.92, 164470.71],\n",
       "       [1, 23640.93, 148001.11],\n",
       "       [1, 15505.73, 35534.17],\n",
       "       [1, 22177.74, 28334.72],\n",
       "       [1, 1000.23, 1903.93],\n",
       "       [1, 1315.46, 297114.46],\n",
       "       [1, 0.0, 0.0],\n",
       "       [1, 542.05, 0.0],\n",
       "       [1, 0.0, 45173.06]], dtype=object)"
      ]
     },
     "execution_count": 22,
     "metadata": {},
     "output_type": "execute_result"
    }
   ],
   "source": [
    "X_opt = X[:,[0,4,6]]\n",
    "X_opt"
   ]
  },
  {
   "cell_type": "code",
   "execution_count": 23,
   "metadata": {},
   "outputs": [
    {
     "name": "stdout",
     "output_type": "stream",
     "text": [
      "                            OLS Regression Results                            \n",
      "==============================================================================\n",
      "Dep. Variable:                      y   R-squared:                       0.950\n",
      "Model:                            OLS   Adj. R-squared:                  0.948\n",
      "Method:                 Least Squares   F-statistic:                     450.8\n",
      "Date:                Mon, 30 Jan 2023   Prob (F-statistic):           2.16e-31\n",
      "Time:                        18:04:27   Log-Likelihood:                -525.54\n",
      "No. Observations:                  50   AIC:                             1057.\n",
      "Df Residuals:                      47   BIC:                             1063.\n",
      "Df Model:                           2                                         \n",
      "Covariance Type:            nonrobust                                         \n",
      "==============================================================================\n",
      "                 coef    std err          t      P>|t|      [0.025      0.975]\n",
      "------------------------------------------------------------------------------\n",
      "const       4.698e+04   2689.933     17.464      0.000    4.16e+04    5.24e+04\n",
      "x1             0.7966      0.041     19.266      0.000       0.713       0.880\n",
      "x2             0.0299      0.016      1.927      0.060      -0.001       0.061\n",
      "==============================================================================\n",
      "Omnibus:                       14.677   Durbin-Watson:                   1.257\n",
      "Prob(Omnibus):                  0.001   Jarque-Bera (JB):               21.161\n",
      "Skew:                          -0.939   Prob(JB):                     2.54e-05\n",
      "Kurtosis:                       5.575   Cond. No.                     5.32e+05\n",
      "==============================================================================\n",
      "\n",
      "Notes:\n",
      "[1] Standard Errors assume that the covariance matrix of the errors is correctly specified.\n",
      "[2] The condition number is large, 5.32e+05. This might indicate that there are\n",
      "strong multicollinearity or other numerical problems.\n"
     ]
    }
   ],
   "source": [
    "X_opt = np.array(X_opt, dtype=float)\n",
    "regression_ols = sm.OLS(endog=y,exog=X_opt).fit()\n",
    "print(regression_ols.summary())"
   ]
  },
  {
   "cell_type": "code",
   "execution_count": 26,
   "metadata": {},
   "outputs": [
    {
     "data": {
      "text/plain": [
       "array([[1, 165349.2],\n",
       "       [1, 162597.7],\n",
       "       [1, 153441.51],\n",
       "       [1, 144372.41],\n",
       "       [1, 142107.34],\n",
       "       [1, 131876.9],\n",
       "       [1, 134615.46],\n",
       "       [1, 130298.13],\n",
       "       [1, 120542.52],\n",
       "       [1, 123334.88],\n",
       "       [1, 101913.08],\n",
       "       [1, 100671.96],\n",
       "       [1, 93863.75],\n",
       "       [1, 91992.39],\n",
       "       [1, 119943.24],\n",
       "       [1, 114523.61],\n",
       "       [1, 78013.11],\n",
       "       [1, 94657.16],\n",
       "       [1, 91749.16],\n",
       "       [1, 86419.7],\n",
       "       [1, 76253.86],\n",
       "       [1, 78389.47],\n",
       "       [1, 73994.56],\n",
       "       [1, 67532.53],\n",
       "       [1, 77044.01],\n",
       "       [1, 64664.71],\n",
       "       [1, 75328.87],\n",
       "       [1, 72107.6],\n",
       "       [1, 66051.52],\n",
       "       [1, 65605.48],\n",
       "       [1, 61994.48],\n",
       "       [1, 61136.38],\n",
       "       [1, 63408.86],\n",
       "       [1, 55493.95],\n",
       "       [1, 46426.07],\n",
       "       [1, 46014.02],\n",
       "       [1, 28663.76],\n",
       "       [1, 44069.95],\n",
       "       [1, 20229.59],\n",
       "       [1, 38558.51],\n",
       "       [1, 28754.33],\n",
       "       [1, 27892.92],\n",
       "       [1, 23640.93],\n",
       "       [1, 15505.73],\n",
       "       [1, 22177.74],\n",
       "       [1, 1000.23],\n",
       "       [1, 1315.46],\n",
       "       [1, 0.0],\n",
       "       [1, 542.05],\n",
       "       [1, 0.0]], dtype=object)"
      ]
     },
     "execution_count": 26,
     "metadata": {},
     "output_type": "execute_result"
    }
   ],
   "source": [
    "X_opt = X[:,[0,4]]\n",
    "X_opt"
   ]
  },
  {
   "cell_type": "code",
   "execution_count": 27,
   "metadata": {},
   "outputs": [
    {
     "name": "stdout",
     "output_type": "stream",
     "text": [
      "                            OLS Regression Results                            \n",
      "==============================================================================\n",
      "Dep. Variable:                      y   R-squared:                       0.947\n",
      "Model:                            OLS   Adj. R-squared:                  0.945\n",
      "Method:                 Least Squares   F-statistic:                     849.8\n",
      "Date:                Mon, 30 Jan 2023   Prob (F-statistic):           3.50e-32\n",
      "Time:                        18:09:48   Log-Likelihood:                -527.44\n",
      "No. Observations:                  50   AIC:                             1059.\n",
      "Df Residuals:                      48   BIC:                             1063.\n",
      "Df Model:                           1                                         \n",
      "Covariance Type:            nonrobust                                         \n",
      "==============================================================================\n",
      "                 coef    std err          t      P>|t|      [0.025      0.975]\n",
      "------------------------------------------------------------------------------\n",
      "const       4.903e+04   2537.897     19.320      0.000    4.39e+04    5.41e+04\n",
      "x1             0.8543      0.029     29.151      0.000       0.795       0.913\n",
      "==============================================================================\n",
      "Omnibus:                       13.727   Durbin-Watson:                   1.116\n",
      "Prob(Omnibus):                  0.001   Jarque-Bera (JB):               18.536\n",
      "Skew:                          -0.911   Prob(JB):                     9.44e-05\n",
      "Kurtosis:                       5.361   Cond. No.                     1.65e+05\n",
      "==============================================================================\n",
      "\n",
      "Notes:\n",
      "[1] Standard Errors assume that the covariance matrix of the errors is correctly specified.\n",
      "[2] The condition number is large, 1.65e+05. This might indicate that there are\n",
      "strong multicollinearity or other numerical problems.\n"
     ]
    }
   ],
   "source": [
    "X_opt = np.array(X_opt, dtype=float)\n",
    "regression_ols = sm.OLS(endog=y,exog=X_opt).fit()\n",
    "print(regression_ols.summary())"
   ]
  },
  {
   "cell_type": "code",
   "execution_count": null,
   "metadata": {},
   "outputs": [],
   "source": []
  }
 ],
 "metadata": {
  "kernelspec": {
   "display_name": "env",
   "language": "python",
   "name": "python3"
  },
  "language_info": {
   "codemirror_mode": {
    "name": "ipython",
    "version": 3
   },
   "file_extension": ".py",
   "mimetype": "text/x-python",
   "name": "python",
   "nbconvert_exporter": "python",
   "pygments_lexer": "ipython3",
   "version": "3.10.6"
  },
  "orig_nbformat": 4,
  "vscode": {
   "interpreter": {
    "hash": "d4df9beb648b08949e4a5ae354613011f9c215c50bd7d4fcafa0a59ccb8a7ab3"
   }
  }
 },
 "nbformat": 4,
 "nbformat_minor": 2
}
